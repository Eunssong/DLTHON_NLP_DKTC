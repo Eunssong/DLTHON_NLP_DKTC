{
 "cells": [
  {
   "cell_type": "code",
   "execution_count": 1,
   "id": "74e19425",
   "metadata": {},
   "outputs": [],
   "source": [
    "import pandas as pd\n",
    "import tensorflow as tf\n",
    "from tensorflow import keras\n",
    "from sklearn.model_selection import train_test_split\n",
    "#import wandb\n",
    "#from wandb.keras import WandbCallback\n",
    "from sklearn.preprocessing import LabelEncoder\n",
    "import os"
   ]
  },
  {
   "cell_type": "code",
   "execution_count": 2,
   "id": "196fdffa",
   "metadata": {},
   "outputs": [
    {
     "data": {
      "text/html": [
       "<div>\n",
       "<style scoped>\n",
       "    .dataframe tbody tr th:only-of-type {\n",
       "        vertical-align: middle;\n",
       "    }\n",
       "\n",
       "    .dataframe tbody tr th {\n",
       "        vertical-align: top;\n",
       "    }\n",
       "\n",
       "    .dataframe thead th {\n",
       "        text-align: right;\n",
       "    }\n",
       "</style>\n",
       "<table border=\"1\" class=\"dataframe\">\n",
       "  <thead>\n",
       "    <tr style=\"text-align: right;\">\n",
       "      <th></th>\n",
       "      <th>idx</th>\n",
       "      <th>class</th>\n",
       "      <th>conversation</th>\n",
       "    </tr>\n",
       "  </thead>\n",
       "  <tbody>\n",
       "    <tr>\n",
       "      <th>0</th>\n",
       "      <td>0</td>\n",
       "      <td>협박 대화</td>\n",
       "      <td>지금 너 스스로를 죽여달라고 애원하는 것인가?\\n 아닙니다. 죄송합니다.\\n 죽을 ...</td>\n",
       "    </tr>\n",
       "    <tr>\n",
       "      <th>1</th>\n",
       "      <td>1</td>\n",
       "      <td>협박 대화</td>\n",
       "      <td>길동경찰서입니다.\\n9시 40분 마트에 폭발물을 설치할거다.\\n네?\\n똑바로 들어 ...</td>\n",
       "    </tr>\n",
       "    <tr>\n",
       "      <th>2</th>\n",
       "      <td>2</td>\n",
       "      <td>기타 괴롭힘 대화</td>\n",
       "      <td>너 되게 귀여운거 알지? 나보다 작은 남자는 첨봤어.\\n그만해. 니들 놀리는거 재미...</td>\n",
       "    </tr>\n",
       "    <tr>\n",
       "      <th>3</th>\n",
       "      <td>3</td>\n",
       "      <td>갈취 대화</td>\n",
       "      <td>어이 거기\\n예??\\n너 말이야 너. 이리 오라고\\n무슨 일.\\n너 옷 좋아보인다?...</td>\n",
       "    </tr>\n",
       "    <tr>\n",
       "      <th>4</th>\n",
       "      <td>4</td>\n",
       "      <td>갈취 대화</td>\n",
       "      <td>저기요 혹시 날이 너무 뜨겁잖아요? 저희 회사에서 이 선크림 파는데 한 번 손등에 ...</td>\n",
       "    </tr>\n",
       "  </tbody>\n",
       "</table>\n",
       "</div>"
      ],
      "text/plain": [
       "   idx      class                                       conversation\n",
       "0    0      협박 대화  지금 너 스스로를 죽여달라고 애원하는 것인가?\\n 아닙니다. 죄송합니다.\\n 죽을 ...\n",
       "1    1      협박 대화  길동경찰서입니다.\\n9시 40분 마트에 폭발물을 설치할거다.\\n네?\\n똑바로 들어 ...\n",
       "2    2  기타 괴롭힘 대화  너 되게 귀여운거 알지? 나보다 작은 남자는 첨봤어.\\n그만해. 니들 놀리는거 재미...\n",
       "3    3      갈취 대화  어이 거기\\n예??\\n너 말이야 너. 이리 오라고\\n무슨 일.\\n너 옷 좋아보인다?...\n",
       "4    4      갈취 대화  저기요 혹시 날이 너무 뜨겁잖아요? 저희 회사에서 이 선크림 파는데 한 번 손등에 ..."
      ]
     },
     "execution_count": 2,
     "metadata": {},
     "output_type": "execute_result"
    }
   ],
   "source": [
    "# data load\n",
    "train_data_path =\"~/aiffel/dktc/data/train.csv\"\n",
    "train_data = pd.read_csv(train_data_path)\n",
    "train_data.head()"
   ]
  },
  {
   "cell_type": "code",
   "execution_count": 3,
   "id": "6579d9dc",
   "metadata": {},
   "outputs": [
    {
     "data": {
      "text/html": [
       "<div>\n",
       "<style scoped>\n",
       "    .dataframe tbody tr th:only-of-type {\n",
       "        vertical-align: middle;\n",
       "    }\n",
       "\n",
       "    .dataframe tbody tr th {\n",
       "        vertical-align: top;\n",
       "    }\n",
       "\n",
       "    .dataframe thead th {\n",
       "        text-align: right;\n",
       "    }\n",
       "</style>\n",
       "<table border=\"1\" class=\"dataframe\">\n",
       "  <thead>\n",
       "    <tr style=\"text-align: right;\">\n",
       "      <th></th>\n",
       "      <th>idx</th>\n",
       "      <th>class</th>\n",
       "      <th>conversation</th>\n",
       "    </tr>\n",
       "  </thead>\n",
       "  <tbody>\n",
       "    <tr>\n",
       "      <th>0</th>\n",
       "      <td>0</td>\n",
       "      <td>0</td>\n",
       "      <td>지금 너 스스로를 죽여달라고 애원하는 것인가?\\n 아닙니다. 죄송합니다.\\n 죽을 ...</td>\n",
       "    </tr>\n",
       "    <tr>\n",
       "      <th>1</th>\n",
       "      <td>1</td>\n",
       "      <td>0</td>\n",
       "      <td>길동경찰서입니다.\\n9시 40분 마트에 폭발물을 설치할거다.\\n네?\\n똑바로 들어 ...</td>\n",
       "    </tr>\n",
       "    <tr>\n",
       "      <th>2</th>\n",
       "      <td>2</td>\n",
       "      <td>3</td>\n",
       "      <td>너 되게 귀여운거 알지? 나보다 작은 남자는 첨봤어.\\n그만해. 니들 놀리는거 재미...</td>\n",
       "    </tr>\n",
       "    <tr>\n",
       "      <th>3</th>\n",
       "      <td>3</td>\n",
       "      <td>1</td>\n",
       "      <td>어이 거기\\n예??\\n너 말이야 너. 이리 오라고\\n무슨 일.\\n너 옷 좋아보인다?...</td>\n",
       "    </tr>\n",
       "    <tr>\n",
       "      <th>4</th>\n",
       "      <td>4</td>\n",
       "      <td>1</td>\n",
       "      <td>저기요 혹시 날이 너무 뜨겁잖아요? 저희 회사에서 이 선크림 파는데 한 번 손등에 ...</td>\n",
       "    </tr>\n",
       "  </tbody>\n",
       "</table>\n",
       "</div>"
      ],
      "text/plain": [
       "   idx  class                                       conversation\n",
       "0    0      0  지금 너 스스로를 죽여달라고 애원하는 것인가?\\n 아닙니다. 죄송합니다.\\n 죽을 ...\n",
       "1    1      0  길동경찰서입니다.\\n9시 40분 마트에 폭발물을 설치할거다.\\n네?\\n똑바로 들어 ...\n",
       "2    2      3  너 되게 귀여운거 알지? 나보다 작은 남자는 첨봤어.\\n그만해. 니들 놀리는거 재미...\n",
       "3    3      1  어이 거기\\n예??\\n너 말이야 너. 이리 오라고\\n무슨 일.\\n너 옷 좋아보인다?...\n",
       "4    4      1  저기요 혹시 날이 너무 뜨겁잖아요? 저희 회사에서 이 선크림 파는데 한 번 손등에 ..."
      ]
     },
     "execution_count": 3,
     "metadata": {},
     "output_type": "execute_result"
    }
   ],
   "source": [
    "# label encoding\n",
    "CLASS_NAMES = ['협박 대화', '갈취 대화', '직장 내 괴롭힘 대화', '기타 괴롭힘 대화']\n",
    "\n",
    "class_dict = {}\n",
    "for idx, class_name in enumerate(CLASS_NAMES):\n",
    "    class_dict[class_name] = idx\n",
    "\n",
    "train_data['class'] = train_data['class'].apply(lambda s: class_dict[s])\n",
    "\n",
    "train_data.head()"
   ]
  },
  {
   "cell_type": "code",
   "execution_count": 4,
   "id": "ea0a7d39",
   "metadata": {},
   "outputs": [
    {
     "data": {
      "text/html": [
       "<div>\n",
       "<style scoped>\n",
       "    .dataframe tbody tr th:only-of-type {\n",
       "        vertical-align: middle;\n",
       "    }\n",
       "\n",
       "    .dataframe tbody tr th {\n",
       "        vertical-align: top;\n",
       "    }\n",
       "\n",
       "    .dataframe thead th {\n",
       "        text-align: right;\n",
       "    }\n",
       "</style>\n",
       "<table border=\"1\" class=\"dataframe\">\n",
       "  <thead>\n",
       "    <tr style=\"text-align: right;\">\n",
       "      <th></th>\n",
       "      <th>idx</th>\n",
       "      <th>class</th>\n",
       "      <th>conversation</th>\n",
       "    </tr>\n",
       "  </thead>\n",
       "  <tbody>\n",
       "    <tr>\n",
       "      <th>392</th>\n",
       "      <td>392</td>\n",
       "      <td>3</td>\n",
       "      <td>병신이 아이스크림 먹게 돼 있냐?\\n난 먹으면 안 돼? 그만 좀 해.\\n당연히 안 ...</td>\n",
       "    </tr>\n",
       "    <tr>\n",
       "      <th>523</th>\n",
       "      <td>523</td>\n",
       "      <td>2</td>\n",
       "      <td>과장님. 저 이번에 휴가 좀 갔다와도 되겠습니까.?\\n휴가? 왜??\\n좀 쉬다가 오...</td>\n",
       "    </tr>\n",
       "    <tr>\n",
       "      <th>789</th>\n",
       "      <td>789</td>\n",
       "      <td>3</td>\n",
       "      <td>야 얘 이 쪽 손가락 세 개밖에 없다\\n엥 손가락이 세개밖에 없을 수가 있어?\\n봐...</td>\n",
       "    </tr>\n",
       "    <tr>\n",
       "      <th>824</th>\n",
       "      <td>824</td>\n",
       "      <td>3</td>\n",
       "      <td>이야 내동생 여자친구한테 편지쓰네?\\n 아 형 돌려줘.\\n 어디보자. 사랑하는 여친...</td>\n",
       "    </tr>\n",
       "    <tr>\n",
       "      <th>869</th>\n",
       "      <td>869</td>\n",
       "      <td>2</td>\n",
       "      <td>지현씨 나 소개팅 좀 시켜줘봐\\n네? 저 주변에 아는 사람이 없어서요\\n아 상사라 ...</td>\n",
       "    </tr>\n",
       "    <tr>\n",
       "      <th>...</th>\n",
       "      <td>...</td>\n",
       "      <td>...</td>\n",
       "      <td>...</td>\n",
       "    </tr>\n",
       "    <tr>\n",
       "      <th>3797</th>\n",
       "      <td>3797</td>\n",
       "      <td>3</td>\n",
       "      <td>너 이번 방학 때 쌍꺼풀 수술 하고왔지?\\n아닌데?\\n아니긴 뭐가 아니야. 눈이 이...</td>\n",
       "    </tr>\n",
       "    <tr>\n",
       "      <th>3798</th>\n",
       "      <td>3798</td>\n",
       "      <td>3</td>\n",
       "      <td>안녕하세요 지금 먹방 촬영중인데 촬영가능할까요?\\n안돼요\\n한번만 안될까요?\\n안돼...</td>\n",
       "    </tr>\n",
       "    <tr>\n",
       "      <th>3855</th>\n",
       "      <td>3855</td>\n",
       "      <td>3</td>\n",
       "      <td>그 소문 진짜야? 너가 다른 애들 뒷담화하고 다녔다며?\\n응? 나 그런 적 없는데?...</td>\n",
       "    </tr>\n",
       "    <tr>\n",
       "      <th>3874</th>\n",
       "      <td>3874</td>\n",
       "      <td>3</td>\n",
       "      <td>야 니 왤캐 못생겼냐?\\n뭐라그랬냐?\\n으 나 보고 말하지마 니 얼굴보면 토나올거 ...</td>\n",
       "    </tr>\n",
       "    <tr>\n",
       "      <th>3928</th>\n",
       "      <td>3928</td>\n",
       "      <td>3</td>\n",
       "      <td>새파랗게 젊은게 어디 여길 앉아있어\\n저 임산부에요\\n사지 멀쩡한게! 임신이 벼슬이...</td>\n",
       "    </tr>\n",
       "  </tbody>\n",
       "</table>\n",
       "<p>104 rows × 3 columns</p>\n",
       "</div>"
      ],
      "text/plain": [
       "       idx  class                                       conversation\n",
       "392    392      3  병신이 아이스크림 먹게 돼 있냐?\\n난 먹으면 안 돼? 그만 좀 해.\\n당연히 안 ...\n",
       "523    523      2  과장님. 저 이번에 휴가 좀 갔다와도 되겠습니까.?\\n휴가? 왜??\\n좀 쉬다가 오...\n",
       "789    789      3  야 얘 이 쪽 손가락 세 개밖에 없다\\n엥 손가락이 세개밖에 없을 수가 있어?\\n봐...\n",
       "824    824      3  이야 내동생 여자친구한테 편지쓰네?\\n 아 형 돌려줘.\\n 어디보자. 사랑하는 여친...\n",
       "869    869      2  지현씨 나 소개팅 좀 시켜줘봐\\n네? 저 주변에 아는 사람이 없어서요\\n아 상사라 ...\n",
       "...    ...    ...                                                ...\n",
       "3797  3797      3  너 이번 방학 때 쌍꺼풀 수술 하고왔지?\\n아닌데?\\n아니긴 뭐가 아니야. 눈이 이...\n",
       "3798  3798      3  안녕하세요 지금 먹방 촬영중인데 촬영가능할까요?\\n안돼요\\n한번만 안될까요?\\n안돼...\n",
       "3855  3855      3  그 소문 진짜야? 너가 다른 애들 뒷담화하고 다녔다며?\\n응? 나 그런 적 없는데?...\n",
       "3874  3874      3  야 니 왤캐 못생겼냐?\\n뭐라그랬냐?\\n으 나 보고 말하지마 니 얼굴보면 토나올거 ...\n",
       "3928  3928      3  새파랗게 젊은게 어디 여길 앉아있어\\n저 임산부에요\\n사지 멀쩡한게! 임신이 벼슬이...\n",
       "\n",
       "[104 rows x 3 columns]"
      ]
     },
     "execution_count": 4,
     "metadata": {},
     "output_type": "execute_result"
    }
   ],
   "source": [
    "# 중복 확인\n",
    "train_data[train_data.duplicated([\"class\", \"conversation\"])]"
   ]
  },
  {
   "cell_type": "code",
   "execution_count": 5,
   "id": "fe942a16",
   "metadata": {},
   "outputs": [],
   "source": [
    "# 중복 제거\n",
    "train_data = train_data.drop_duplicates(subset=[\"class\", \"conversation\"])"
   ]
  },
  {
   "cell_type": "code",
   "execution_count": 6,
   "id": "d70580d7",
   "metadata": {},
   "outputs": [
    {
     "data": {
      "text/html": [
       "<div>\n",
       "<style scoped>\n",
       "    .dataframe tbody tr th:only-of-type {\n",
       "        vertical-align: middle;\n",
       "    }\n",
       "\n",
       "    .dataframe tbody tr th {\n",
       "        vertical-align: top;\n",
       "    }\n",
       "\n",
       "    .dataframe thead th {\n",
       "        text-align: right;\n",
       "    }\n",
       "</style>\n",
       "<table border=\"1\" class=\"dataframe\">\n",
       "  <thead>\n",
       "    <tr style=\"text-align: right;\">\n",
       "      <th></th>\n",
       "      <th>idx</th>\n",
       "      <th>class</th>\n",
       "      <th>conversation</th>\n",
       "    </tr>\n",
       "  </thead>\n",
       "  <tbody>\n",
       "  </tbody>\n",
       "</table>\n",
       "</div>"
      ],
      "text/plain": [
       "Empty DataFrame\n",
       "Columns: [idx, class, conversation]\n",
       "Index: []"
      ]
     },
     "execution_count": 6,
     "metadata": {},
     "output_type": "execute_result"
    }
   ],
   "source": [
    "train_data[train_data.duplicated([\"conversation\"])]"
   ]
  },
  {
   "cell_type": "code",
   "execution_count": 7,
   "id": "cc5c4298",
   "metadata": {},
   "outputs": [
    {
     "name": "stdout",
     "output_type": "stream",
     "text": [
      "(3846, 3)\n"
     ]
    },
    {
     "data": {
      "text/html": [
       "<div>\n",
       "<style scoped>\n",
       "    .dataframe tbody tr th:only-of-type {\n",
       "        vertical-align: middle;\n",
       "    }\n",
       "\n",
       "    .dataframe tbody tr th {\n",
       "        vertical-align: top;\n",
       "    }\n",
       "\n",
       "    .dataframe thead th {\n",
       "        text-align: right;\n",
       "    }\n",
       "</style>\n",
       "<table border=\"1\" class=\"dataframe\">\n",
       "  <thead>\n",
       "    <tr style=\"text-align: right;\">\n",
       "      <th></th>\n",
       "      <th>idx</th>\n",
       "      <th>class</th>\n",
       "      <th>conversation</th>\n",
       "    </tr>\n",
       "  </thead>\n",
       "  <tbody>\n",
       "    <tr>\n",
       "      <th>0</th>\n",
       "      <td>0</td>\n",
       "      <td>0</td>\n",
       "      <td>지금 너 스스로를 죽여달라고 애원하는 것인가?\\n 아닙니다. 죄송합니다.\\n 죽을 ...</td>\n",
       "    </tr>\n",
       "    <tr>\n",
       "      <th>1</th>\n",
       "      <td>1</td>\n",
       "      <td>0</td>\n",
       "      <td>길동경찰서입니다.\\n9시 40분 마트에 폭발물을 설치할거다.\\n네?\\n똑바로 들어 ...</td>\n",
       "    </tr>\n",
       "    <tr>\n",
       "      <th>2</th>\n",
       "      <td>2</td>\n",
       "      <td>3</td>\n",
       "      <td>너 되게 귀여운거 알지? 나보다 작은 남자는 첨봤어.\\n그만해. 니들 놀리는거 재미...</td>\n",
       "    </tr>\n",
       "    <tr>\n",
       "      <th>3</th>\n",
       "      <td>3</td>\n",
       "      <td>1</td>\n",
       "      <td>어이 거기\\n예??\\n너 말이야 너. 이리 오라고\\n무슨 일.\\n너 옷 좋아보인다?...</td>\n",
       "    </tr>\n",
       "    <tr>\n",
       "      <th>4</th>\n",
       "      <td>4</td>\n",
       "      <td>1</td>\n",
       "      <td>저기요 혹시 날이 너무 뜨겁잖아요? 저희 회사에서 이 선크림 파는데 한 번 손등에 ...</td>\n",
       "    </tr>\n",
       "  </tbody>\n",
       "</table>\n",
       "</div>"
      ],
      "text/plain": [
       "   idx  class                                       conversation\n",
       "0    0      0  지금 너 스스로를 죽여달라고 애원하는 것인가?\\n 아닙니다. 죄송합니다.\\n 죽을 ...\n",
       "1    1      0  길동경찰서입니다.\\n9시 40분 마트에 폭발물을 설치할거다.\\n네?\\n똑바로 들어 ...\n",
       "2    2      3  너 되게 귀여운거 알지? 나보다 작은 남자는 첨봤어.\\n그만해. 니들 놀리는거 재미...\n",
       "3    3      1  어이 거기\\n예??\\n너 말이야 너. 이리 오라고\\n무슨 일.\\n너 옷 좋아보인다?...\n",
       "4    4      1  저기요 혹시 날이 너무 뜨겁잖아요? 저희 회사에서 이 선크림 파는데 한 번 손등에 ..."
      ]
     },
     "execution_count": 7,
     "metadata": {},
     "output_type": "execute_result"
    }
   ],
   "source": [
    "print(train_data.shape)\n",
    "train_data.head()"
   ]
  },
  {
   "cell_type": "code",
   "execution_count": 8,
   "id": "fe2e19eb",
   "metadata": {},
   "outputs": [],
   "source": [
    "# reindexing\n",
    "train_data = train_data.reset_index(drop=True)"
   ]
  },
  {
   "cell_type": "code",
   "execution_count": 9,
   "id": "9ba47e1c",
   "metadata": {},
   "outputs": [
    {
     "data": {
      "text/plain": [
       "0    지금 너 스스로를 죽여달라고 애원하는 것인가?\\n 아닙니다. 죄송합니다.\\n 죽을 ...\n",
       "1    길동경찰서입니다.\\n9시 40분 마트에 폭발물을 설치할거다.\\n네?\\n똑바로 들어 ...\n",
       "2    너 되게 귀여운거 알지? 나보다 작은 남자는 첨봤어.\\n그만해. 니들 놀리는거 재미...\n",
       "3    어이 거기\\n예??\\n너 말이야 너. 이리 오라고\\n무슨 일.\\n너 옷 좋아보인다?...\n",
       "4    저기요 혹시 날이 너무 뜨겁잖아요? 저희 회사에서 이 선크림 파는데 한 번 손등에 ...\n",
       "Name: conversation, dtype: object"
      ]
     },
     "execution_count": 9,
     "metadata": {},
     "output_type": "execute_result"
    }
   ],
   "source": [
    "corpus = train_data[\"conversation\"]\n",
    "corpus.head()"
   ]
  },
  {
   "cell_type": "code",
   "execution_count": 10,
   "id": "1914bd3b",
   "metadata": {},
   "outputs": [
    {
     "data": {
      "text/plain": [
       "'회식 갈거지?\\n오늘 몸이 좀 안 좋아서.\\n몸관리를 왜 이렇게 못해.\\n한다고 하는데 뜻대로 안되네요.\\n이번 회식은 과장님 축하 위한거니 되도록이면 모두 참석 했으면 하는데.\\n죄송합니다.\\n그 정도로 심한 것 같지 않은데 잠깐이라도 참석해서 더 말 안나오게 해.\\n네 알겠습니다.\\n사람이 참 융통성이 없어. \\n죄송합니다.'"
      ]
     },
     "execution_count": 10,
     "metadata": {},
     "output_type": "execute_result"
    }
   ],
   "source": [
    "corpus[392]"
   ]
  },
  {
   "cell_type": "code",
   "execution_count": 11,
   "id": "d85f260d",
   "metadata": {},
   "outputs": [],
   "source": [
    "# 불용어 제거\n",
    "import re\n",
    "\n",
    "def preprocess_sentence(sentence):\n",
    "    sentence = sentence.lower().strip()\n",
    "\n",
    "    sentence = re.sub(r\"([?.!,])\", r\" \\1 \", sentence)\n",
    "    sentence = re.sub(r'[\" \"]+', \" \", sentence)\n",
    "    sentence = re.sub(r\"[^a-zA-Zㄱ-ㅎ가-힣ㅏ-ㅣ?.!,]+\", \" \", sentence)\n",
    "    \n",
    "    sentence = sentence.strip()\n",
    "\n",
    "    return sentence"
   ]
  },
  {
   "cell_type": "code",
   "execution_count": 12,
   "id": "f9adacd1",
   "metadata": {},
   "outputs": [],
   "source": [
    "# tokenizing\n",
    "import sentencepiece as spm\n",
    "\n",
    "def generate_spm_tokenizer(corpus,\n",
    "                        vocab_size,\n",
    "                        lang=\"ko\",\n",
    "                        pad_id=0,\n",
    "                        bos_id=1,\n",
    "                        eos_id=2,\n",
    "                        unk_id=3):\n",
    "    # sentencepiece train을 위해 해당 corpus를 별도 파일로 만듬.\n",
    "    temp_file = f\"{lang}_corpus.txt\"\n",
    "    with open(temp_file, \"w\") as f:\n",
    "        for sen in corpus:\n",
    "            f.write(sen)\n",
    "            f.write(\"\\n\")\n",
    "    \n",
    "    #  sentencepiece train\n",
    "    model_name = f\"{lang}_spm\"\n",
    "    spm.SentencePieceTrainer.train(input=temp_file, \n",
    "                                   model_prefix=model_name, \n",
    "                                   vocab_size=vocab_size, \n",
    "                                   pad_id=pad_id, \n",
    "                                   bos_id=bos_id, \n",
    "                                   eos_id=eos_id, \n",
    "                                   unk_id=unk_id)\n",
    "    \n",
    "    #  sentencepiece load\n",
    "    tokenizer = spm.SentencePieceProcessor()\n",
    "    tokenizer.Load(model_name + \".model\")\n",
    "    \n",
    "    return tokenizer"
   ]
  },
  {
   "cell_type": "code",
   "execution_count": 13,
   "id": "c8484cde",
   "metadata": {},
   "outputs": [],
   "source": [
    "corpus = [preprocess_sentence(s) for s in corpus]"
   ]
  },
  {
   "cell_type": "code",
   "execution_count": 14,
   "id": "4ea398e5",
   "metadata": {},
   "outputs": [
    {
     "data": {
      "text/plain": [
       "'지금 너 스스로를 죽여달라고 애원하는 것인가 ? 아닙니다 . 죄송합니다 . 죽을 거면 혼자 죽지 우리까지 사건에 휘말리게 해 ? 진짜 죽여버리고 싶게 . 정말 잘못했습니다 . 너가 선택해 . 너가 죽을래 네 가족을 죽여줄까 . 죄송합니다 . 정말 잘못했습니다 . 너에게는 선택권이 없어 . 선택 못한다면 너와 네 가족까지 모조리 죽여버릴거야 . 선택 못하겠습니다 . 한번만 도와주세요 . 그냥 다 죽여버려야겠군 . 이의 없지 ? 제발 도와주세요 .'"
      ]
     },
     "execution_count": 14,
     "metadata": {},
     "output_type": "execute_result"
    }
   ],
   "source": [
    "corpus[0]"
   ]
  },
  {
   "cell_type": "code",
   "execution_count": 15,
   "id": "01b8b76d",
   "metadata": {},
   "outputs": [
    {
     "name": "stdout",
     "output_type": "stream",
     "text": [
      "909\n",
      "41\n"
     ]
    }
   ],
   "source": [
    "len_list = list(map(lambda s: len(s), corpus))\n",
    "print(max(len_list))\n",
    "print(min(len_list))"
   ]
  },
  {
   "cell_type": "code",
   "execution_count": 16,
   "id": "8c3990c5",
   "metadata": {
    "scrolled": true
   },
   "outputs": [
    {
     "name": "stderr",
     "output_type": "stream",
     "text": [
      "sentencepiece_trainer.cc(77) LOG(INFO) Starts training with : \n",
      "trainer_spec {\n",
      "  input: ko_corpus.txt\n",
      "  input_format: \n",
      "  model_prefix: ko_spm\n",
      "  model_type: UNIGRAM\n",
      "  vocab_size: 10000\n",
      "  self_test_sample_size: 0\n",
      "  character_coverage: 0.9995\n",
      "  input_sentence_size: 0\n",
      "  shuffle_input_sentence: 1\n",
      "  seed_sentencepiece_size: 1000000\n",
      "  shrinking_factor: 0.75\n",
      "  max_sentence_length: 4192\n",
      "  num_threads: 16\n",
      "  num_sub_iterations: 2\n",
      "  max_sentencepiece_length: 16\n",
      "  split_by_unicode_script: 1\n",
      "  split_by_number: 1\n",
      "  split_by_whitespace: 1\n",
      "  split_digits: 0\n",
      "  treat_whitespace_as_suffix: 0\n",
      "  allow_whitespace_only_pieces: 0\n",
      "  required_chars: \n",
      "  byte_fallback: 0\n",
      "  vocabulary_output_piece_score: 1\n",
      "  train_extremely_large_corpus: 0\n",
      "  hard_vocab_limit: 1\n",
      "  use_all_vocab: 0\n",
      "  unk_id: 3\n",
      "  bos_id: 1\n",
      "  eos_id: 2\n",
      "  pad_id: 0\n",
      "  unk_piece: <unk>\n",
      "  bos_piece: <s>\n",
      "  eos_piece: </s>\n",
      "  pad_piece: <pad>\n",
      "  unk_surface:  ⁇ \n",
      "}\n",
      "normalizer_spec {\n",
      "  name: nmt_nfkc\n",
      "  add_dummy_prefix: 1\n",
      "  remove_extra_whitespaces: 1\n",
      "  escape_whitespaces: 1\n",
      "  normalization_rule_tsv: \n",
      "}\n",
      "denormalizer_spec {}\n",
      "trainer_interface.cc(329) LOG(INFO) SentenceIterator is not specified. Using MultiFileSentenceIterator.\n",
      "trainer_interface.cc(178) LOG(INFO) Loading corpus: ko_corpus.txt\n",
      "trainer_interface.cc(385) LOG(INFO) Loaded all 3846 sentences\n",
      "trainer_interface.cc(400) LOG(INFO) Adding meta_piece: <pad>\n",
      "trainer_interface.cc(400) LOG(INFO) Adding meta_piece: <s>\n",
      "trainer_interface.cc(400) LOG(INFO) Adding meta_piece: </s>\n",
      "trainer_interface.cc(400) LOG(INFO) Adding meta_piece: <unk>\n",
      "trainer_interface.cc(405) LOG(INFO) Normalizing sentences...\n",
      "trainer_interface.cc(466) LOG(INFO) all chars count=915069\n",
      "trainer_interface.cc(477) LOG(INFO) Done: 99.9501% characters are covered.\n",
      "trainer_interface.cc(487) LOG(INFO) Alphabet size=1163\n",
      "trainer_interface.cc(488) LOG(INFO) Final character coverage=0.999501\n",
      "trainer_interface.cc(520) LOG(INFO) Done! preprocessed 3846 sentences.\n",
      "unigram_model_trainer.cc(139) LOG(INFO) Making suffix array...\n",
      "unigram_model_trainer.cc(143) LOG(INFO) Extracting frequent sub strings...\n",
      "unigram_model_trainer.cc(194) LOG(INFO) Initialized 41588 seed sentencepieces\n",
      "trainer_interface.cc(526) LOG(INFO) Tokenizing input sentences with whitespace: 3846\n",
      "trainer_interface.cc(537) LOG(INFO) Done! 50913\n",
      "unigram_model_trainer.cc(489) LOG(INFO) Using 50913 sentences for EM training\n",
      "unigram_model_trainer.cc(505) LOG(INFO) EM sub_iter=0 size=23731 obj=10.5052 num_tokens=100532 num_tokens/piece=4.23632\n",
      "unigram_model_trainer.cc(505) LOG(INFO) EM sub_iter=1 size=20973 obj=9.74399 num_tokens=100863 num_tokens/piece=4.80918\n",
      "unigram_model_trainer.cc(505) LOG(INFO) EM sub_iter=0 size=15728 obj=9.83113 num_tokens=106071 num_tokens/piece=6.74409\n",
      "unigram_model_trainer.cc(505) LOG(INFO) EM sub_iter=1 size=15718 obj=9.79192 num_tokens=106118 num_tokens/piece=6.75137\n",
      "unigram_model_trainer.cc(505) LOG(INFO) EM sub_iter=0 size=11788 obj=10.0092 num_tokens=113440 num_tokens/piece=9.62335\n",
      "unigram_model_trainer.cc(505) LOG(INFO) EM sub_iter=1 size=11787 obj=9.96744 num_tokens=113472 num_tokens/piece=9.62688\n",
      "unigram_model_trainer.cc(505) LOG(INFO) EM sub_iter=0 size=11000 obj=10.0286 num_tokens=115164 num_tokens/piece=10.4695\n",
      "unigram_model_trainer.cc(505) LOG(INFO) EM sub_iter=1 size=11000 obj=10.0189 num_tokens=115184 num_tokens/piece=10.4713\n",
      "trainer_interface.cc(615) LOG(INFO) Saving model: ko_spm.model\n",
      "trainer_interface.cc(626) LOG(INFO) Saving vocabs: ko_spm.vocab\n"
     ]
    },
    {
     "data": {
      "text/plain": [
       "<AxesSubplot:ylabel='Count'>"
      ]
     },
     "execution_count": 16,
     "metadata": {},
     "output_type": "execute_result"
    },
    {
     "data": {
      "image/png": "[encoded data removed]",
      "text/plain": [
       "<Figure size 432x288 with 1 Axes>"
      ]
     },
     "metadata": {
      "needs_background": "light"
     },
     "output_type": "display_data"
    }
   ],
   "source": [
    "vocab_size = 10000\n",
    "\n",
    "spm_tokenizer = generate_spm_tokenizer(corpus, vocab_size)\n",
    "tokenized_corpus = []\n",
    "\n",
    "# 토큰의 길이가 50 이하인 문장만 남깁니다. \n",
    "for idx in range(len(corpus)):\n",
    "    tokenized_corpus.append(spm_tokenizer.EncodeAsIds(corpus[idx]))\n",
    "    \n",
    "len_tokenized = [map(lambda s: len(s), tokenized_corpus)]\n",
    "import seaborn as sns\n",
    "sns.histplot(len_tokenized)"
   ]
  },
  {
   "cell_type": "markdown",
   "id": "6077a33d",
   "metadata": {},
   "source": [
    "---"
   ]
  },
  {
   "cell_type": "code",
   "execution_count": 17,
   "id": "11d1ebfe",
   "metadata": {},
   "outputs": [],
   "source": [
    "import matplotlib.pyplot as plt\n",
    "%matplotlib inline"
   ]
  },
  {
   "cell_type": "code",
   "execution_count": 34,
   "id": "e1c5eae1",
   "metadata": {},
   "outputs": [
    {
     "name": "stdout",
     "output_type": "stream",
     "text": [
      "384\n",
      "384\n",
      "3462\n",
      "3462\n"
     ]
    }
   ],
   "source": [
    "from sklearn.model_selection import train_test_split\n",
    "\n",
    "max_len = 500\n",
    "\n",
    "#X_train, X_rem, y_train, y_rem = train_test_split(tokenized_corpus, train_data['class'], train_size=0.8, random_state=42)\n",
    "#X_val, X_test, y_val, y_test = train_test_split(X_rem, y_rem, test_size=0.5)\n",
    "\n",
    "X_train, X_val, y_train, y_val = train_test_split(tokenized_corpus, train_data['class'], train_size=0.1, random_state=42)\n",
    "\n",
    "\n",
    "print(len(X_train)), print(len(y_train))\n",
    "print(len(X_val)), print(len(y_val))\n",
    "#print(len(X_test)), print(len(y_test))\n",
    "\n",
    "X_train = tf.keras.preprocessing.sequence.pad_sequences(X_train, padding='pre', maxlen=max_len)\n",
    "X_val = tf.keras.preprocessing.sequence.pad_sequences(X_val, padding='pre', maxlen=max_len)\n",
    "#X_test = tf.keras.preprocessing.sequence.pad_sequences(X_test, padding='pre', maxlen=max_len)"
   ]
  },
  {
   "cell_type": "code",
   "execution_count": 35,
   "id": "9fe669f5",
   "metadata": {},
   "outputs": [
    {
     "data": {
      "text/plain": [
       "2848    0\n",
       "1603    2\n",
       "160     0\n",
       "1704    0\n",
       "956     0\n",
       "Name: class, dtype: int64"
      ]
     },
     "execution_count": 35,
     "metadata": {},
     "output_type": "execute_result"
    }
   ],
   "source": [
    "type(y_train)\n",
    "type(X_train)\n",
    "y_train.head()"
   ]
  },
  {
   "cell_type": "code",
   "execution_count": 36,
   "id": "dfb14be9",
   "metadata": {
    "scrolled": true
   },
   "outputs": [
    {
     "data": {
      "text/plain": [
       "'\\ninputs = keras.layers.Input(shape=(None,))\\nx = keras.layers.Embedding(vocab_size, 128)(inputs)\\n#x = keras.layers.LSTM(256, return_sequences=True)(x)\\n\\nx = keras.layers.SimpleRNN(128)(x)\\n#x = keras.layers.LSTM(128, dropout=0.2, recurrent_dropout=0.2)(x)\\n#x = keras.layers.GRU(128, dropout=0.2, recurrent_dropout=0.2)(x)\\n#x = keras.layers.Bidirectional(keras.layers.LSTM(128))(x)\\n\\nx = keras.layers.Dense(256, activation=\"relu\")(x)\\nx = keras.layers.Dense(4, activation=\"softmax\")(x)\\n\\nmodel = keras.Model(inputs, x)\\n\\nmodel.summary()\\n'"
      ]
     },
     "execution_count": 36,
     "metadata": {},
     "output_type": "execute_result"
    }
   ],
   "source": [
    "'''\n",
    "inputs = keras.layers.Input(shape=(None,))\n",
    "x = keras.layers.Embedding(vocab_size, 128)(inputs)\n",
    "#x = keras.layers.LSTM(256, return_sequences=True)(x)\n",
    "\n",
    "x = keras.layers.SimpleRNN(128)(x)\n",
    "#x = keras.layers.LSTM(128, dropout=0.2, recurrent_dropout=0.2)(x)\n",
    "#x = keras.layers.GRU(128, dropout=0.2, recurrent_dropout=0.2)(x)\n",
    "#x = keras.layers.Bidirectional(keras.layers.LSTM(128))(x)\n",
    "\n",
    "x = keras.layers.Dense(256, activation=\"relu\")(x)\n",
    "x = keras.layers.Dense(4, activation=\"softmax\")(x)\n",
    "\n",
    "model = keras.Model(inputs, x)\n",
    "\n",
    "model.summary()\n",
    "'''"
   ]
  },
  {
   "cell_type": "code",
   "execution_count": 37,
   "id": "36b37eb8",
   "metadata": {},
   "outputs": [
    {
     "name": "stdout",
     "output_type": "stream",
     "text": [
      "Model: \"model_8\"\n",
      "_________________________________________________________________\n",
      "Layer (type)                 Output Shape              Param #   \n",
      "=================================================================\n",
      "input_9 (InputLayer)         [(None, None)]            0         \n",
      "_________________________________________________________________\n",
      "embedding_8 (Embedding)      (None, None, 128)         1280000   \n",
      "_________________________________________________________________\n",
      "simple_rnn_2 (SimpleRNN)     (None, 128)               32896     \n",
      "_________________________________________________________________\n",
      "dense_16 (Dense)             (None, 256)               33024     \n",
      "_________________________________________________________________\n",
      "dense_17 (Dense)             (None, 4)                 1028      \n",
      "=================================================================\n",
      "Total params: 1,346,948\n",
      "Trainable params: 1,346,948\n",
      "Non-trainable params: 0\n",
      "_________________________________________________________________\n"
     ]
    }
   ],
   "source": [
    "# simplernn\n",
    "\n",
    "inputs = keras.layers.Input(shape=(None,))\n",
    "x = keras.layers.Embedding(vocab_size, 128)(inputs)\n",
    "#x = keras.layers.LSTM(256, return_sequences=True)(x)\n",
    "\n",
    "x = keras.layers.SimpleRNN(128)(x)\n",
    "#x = keras.layers.LSTM(128, dropout=0.2, recurrent_dropout=0.2)(x)\n",
    "#x = keras.layers.GRU(128, dropout=0.2, recurrent_dropout=0.2)(x)\n",
    "#x = keras.layers.Bidirectional(keras.layers.LSTM(128))(x)\n",
    "\n",
    "x = keras.layers.Dense(256, activation=\"relu\")(x)\n",
    "x = keras.layers.Dense(4, activation=\"softmax\")(x)\n",
    "\n",
    "model1 = keras.Model(inputs, x)\n",
    "model1.summary()"
   ]
  },
  {
   "cell_type": "code",
   "execution_count": 38,
   "id": "57ff213b",
   "metadata": {},
   "outputs": [
    {
     "name": "stdout",
     "output_type": "stream",
     "text": [
      "WARNING:tensorflow:Layer lstm_4 will not use cuDNN kernels since it doesn't meet the criteria. It will use a generic GPU kernel as fallback when running on GPU.\n",
      "Model: \"model_9\"\n",
      "_________________________________________________________________\n",
      "Layer (type)                 Output Shape              Param #   \n",
      "=================================================================\n",
      "input_10 (InputLayer)        [(None, None)]            0         \n",
      "_________________________________________________________________\n",
      "embedding_9 (Embedding)      (None, None, 128)         1280000   \n",
      "_________________________________________________________________\n",
      "lstm_4 (LSTM)                (None, 128)               131584    \n",
      "_________________________________________________________________\n",
      "dense_18 (Dense)             (None, 256)               33024     \n",
      "_________________________________________________________________\n",
      "dense_19 (Dense)             (None, 4)                 1028      \n",
      "=================================================================\n",
      "Total params: 1,445,636\n",
      "Trainable params: 1,445,636\n",
      "Non-trainable params: 0\n",
      "_________________________________________________________________\n"
     ]
    }
   ],
   "source": [
    "# lstm\n",
    "inputs = keras.layers.Input(shape=(None,))\n",
    "x = keras.layers.Embedding(vocab_size, 128)(inputs)\n",
    "#x = keras.layers.LSTM(256, return_sequences=True)(x)\n",
    "\n",
    "#x = keras.layers.SimpleRNN(128)(x)\n",
    "x = keras.layers.LSTM(128, dropout=0.2, recurrent_dropout=0.2)(x)\n",
    "#x = keras.layers.GRU(128, dropout=0.2, recurrent_dropout=0.2)(x)\n",
    "#x = keras.layers.Bidirectional(keras.layers.LSTM(128))(x)\n",
    "\n",
    "x = keras.layers.Dense(256, activation=\"relu\")(x)\n",
    "x = keras.layers.Dense(4, activation=\"softmax\")(x)\n",
    "\n",
    "model2 = keras.Model(inputs, x)\n",
    "model2.summary()"
   ]
  },
  {
   "cell_type": "code",
   "execution_count": 39,
   "id": "f723f0d7",
   "metadata": {},
   "outputs": [
    {
     "name": "stdout",
     "output_type": "stream",
     "text": [
      "Model: \"model_10\"\n",
      "_________________________________________________________________\n",
      "Layer (type)                 Output Shape              Param #   \n",
      "=================================================================\n",
      "input_11 (InputLayer)        [(None, None)]            0         \n",
      "_________________________________________________________________\n",
      "embedding_10 (Embedding)     (None, None, 128)         1280000   \n",
      "_________________________________________________________________\n",
      "bidirectional_2 (Bidirection (None, 256)               263168    \n",
      "_________________________________________________________________\n",
      "dense_20 (Dense)             (None, 256)               65792     \n",
      "_________________________________________________________________\n",
      "dense_21 (Dense)             (None, 4)                 1028      \n",
      "=================================================================\n",
      "Total params: 1,609,988\n",
      "Trainable params: 1,609,988\n",
      "Non-trainable params: 0\n",
      "_________________________________________________________________\n"
     ]
    }
   ],
   "source": [
    "# bi-lstm\n",
    "inputs = keras.layers.Input(shape=(None,))\n",
    "x = keras.layers.Embedding(vocab_size, 128)(inputs)\n",
    "#x = keras.layers.LSTM(256, return_sequences=True)(x)\n",
    "\n",
    "#x = keras.layers.SimpleRNN(128)(x)\n",
    "#x = keras.layers.LSTM(128, dropout=0.2, recurrent_dropout=0.2)(x)\n",
    "x = keras.layers.Bidirectional(keras.layers.LSTM(128))(x)\n",
    "#x = keras.layers.GRU(128, dropout=0.2, recurrent_dropout=0.2)(x)\n",
    "\n",
    "x = keras.layers.Dense(256, activation=\"relu\")(x)\n",
    "x = keras.layers.Dense(4, activation=\"softmax\")(x)\n",
    "\n",
    "model3 = keras.Model(inputs, x)\n",
    "model3.summary()"
   ]
  },
  {
   "cell_type": "code",
   "execution_count": 40,
   "id": "6ad35cfc",
   "metadata": {},
   "outputs": [
    {
     "name": "stdout",
     "output_type": "stream",
     "text": [
      "WARNING:tensorflow:Layer gru_2 will not use cuDNN kernels since it doesn't meet the criteria. It will use a generic GPU kernel as fallback when running on GPU.\n",
      "Model: \"model_11\"\n",
      "_________________________________________________________________\n",
      "Layer (type)                 Output Shape              Param #   \n",
      "=================================================================\n",
      "input_12 (InputLayer)        [(None, None)]            0         \n",
      "_________________________________________________________________\n",
      "embedding_11 (Embedding)     (None, None, 128)         1280000   \n",
      "_________________________________________________________________\n",
      "gru_2 (GRU)                  (None, 128)               99072     \n",
      "_________________________________________________________________\n",
      "dense_22 (Dense)             (None, 256)               33024     \n",
      "_________________________________________________________________\n",
      "dense_23 (Dense)             (None, 4)                 1028      \n",
      "=================================================================\n",
      "Total params: 1,413,124\n",
      "Trainable params: 1,413,124\n",
      "Non-trainable params: 0\n",
      "_________________________________________________________________\n"
     ]
    }
   ],
   "source": [
    "# gru\n",
    "inputs = keras.layers.Input(shape=(None,))\n",
    "x = keras.layers.Embedding(vocab_size, 128)(inputs)\n",
    "#x = keras.layers.LSTM(256, return_sequences=True)(x)\n",
    "\n",
    "#x = keras.layers.SimpleRNN(128)(x)\n",
    "#x = keras.layers.LSTM(128, dropout=0.2, recurrent_dropout=0.2)(x)\n",
    "x = keras.layers.GRU(128, dropout=0.2, recurrent_dropout=0.2)(x)\n",
    "#x = keras.layers.Bidirectional(keras.layers.LSTM(128))(x)\n",
    "\n",
    "x = keras.layers.Dense(256, activation=\"relu\")(x)\n",
    "x = keras.layers.Dense(4, activation=\"softmax\")(x)\n",
    "\n",
    "model4 = keras.Model(inputs, x)\n",
    "model4.summary()"
   ]
  },
  {
   "cell_type": "code",
   "execution_count": 41,
   "id": "cb17934b",
   "metadata": {},
   "outputs": [],
   "source": [
    "model1.compile(optimizer='adam', \n",
    "              loss='sparse_categorical_crossentropy', \n",
    "              metrics=['accuracy'])\n",
    "model2.compile(optimizer='adam', \n",
    "              loss='sparse_categorical_crossentropy', \n",
    "              metrics=['accuracy'])\n",
    "model3.compile(optimizer='adam', \n",
    "              loss='sparse_categorical_crossentropy', \n",
    "              metrics=['accuracy'])\n",
    "model4.compile(optimizer='adam', \n",
    "              loss='sparse_categorical_crossentropy', \n",
    "              metrics=['accuracy'])"
   ]
  },
  {
   "cell_type": "code",
   "execution_count": 42,
   "id": "c6c33704",
   "metadata": {
    "scrolled": false
   },
   "outputs": [
    {
     "name": "stdout",
     "output_type": "stream",
     "text": [
      "Epoch 1/10\n",
      "12/12 [==============================] - 8s 677ms/step - loss: 1.3957 - accuracy: 0.2292 - val_loss: 1.3872 - val_accuracy: 0.2666\n",
      "Epoch 2/10\n",
      "12/12 [==============================] - 8s 661ms/step - loss: 1.3077 - accuracy: 0.4193 - val_loss: 1.3974 - val_accuracy: 0.2328\n",
      "Epoch 3/10\n",
      "12/12 [==============================] - 8s 665ms/step - loss: 1.1245 - accuracy: 0.7161 - val_loss: 1.4090 - val_accuracy: 0.2715\n",
      "Epoch 4/10\n",
      "12/12 [==============================] - 8s 655ms/step - loss: 0.7189 - accuracy: 0.8750 - val_loss: 1.4100 - val_accuracy: 0.2978\n",
      "Epoch 5/10\n",
      "12/12 [==============================] - 8s 672ms/step - loss: 0.1467 - accuracy: 1.0000 - val_loss: 1.5808 - val_accuracy: 0.2698\n",
      "Epoch 6/10\n",
      "12/12 [==============================] - 8s 659ms/step - loss: 0.0156 - accuracy: 1.0000 - val_loss: 1.7216 - val_accuracy: 0.2767\n",
      "Epoch 7/10\n",
      "12/12 [==============================] - 7s 653ms/step - loss: 0.0041 - accuracy: 1.0000 - val_loss: 1.7930 - val_accuracy: 0.2811\n",
      "Epoch 8/10\n",
      "12/12 [==============================] - 8s 656ms/step - loss: 0.0023 - accuracy: 1.0000 - val_loss: 1.8339 - val_accuracy: 0.2793\n",
      "Epoch 9/10\n",
      "12/12 [==============================] - 8s 662ms/step - loss: 0.0017 - accuracy: 1.0000 - val_loss: 1.8622 - val_accuracy: 0.2790\n",
      "Epoch 10/10\n",
      "12/12 [==============================] - 8s 662ms/step - loss: 0.0014 - accuracy: 1.0000 - val_loss: 1.8840 - val_accuracy: 0.2790\n"
     ]
    }
   ],
   "source": [
    "hist1 = model1.fit(X_train, \n",
    "                 y_train, \n",
    "                 validation_data=(X_val, y_val), \n",
    "                 batch_size=32, \n",
    "                 epochs = 10,)"
   ]
  },
  {
   "cell_type": "code",
   "execution_count": 43,
   "id": "dee99c65",
   "metadata": {},
   "outputs": [
    {
     "name": "stdout",
     "output_type": "stream",
     "text": [
      "Epoch 1/10\n",
      "12/12 [==============================] - 25s 2s/step - loss: 1.3846 - accuracy: 0.2786 - val_loss: 1.3802 - val_accuracy: 0.2672\n",
      "Epoch 2/10\n",
      "12/12 [==============================] - 23s 2s/step - loss: 1.3539 - accuracy: 0.3516 - val_loss: 1.3376 - val_accuracy: 0.3894\n",
      "Epoch 3/10\n",
      "12/12 [==============================] - 23s 2s/step - loss: 1.2250 - accuracy: 0.6953 - val_loss: 1.2890 - val_accuracy: 0.4261\n",
      "Epoch 4/10\n",
      "12/12 [==============================] - 23s 2s/step - loss: 0.8910 - accuracy: 0.8125 - val_loss: 1.1807 - val_accuracy: 0.4422\n",
      "Epoch 5/10\n",
      "12/12 [==============================] - 23s 2s/step - loss: 0.4744 - accuracy: 0.8568 - val_loss: 1.2577 - val_accuracy: 0.4827\n",
      "Epoch 6/10\n",
      "12/12 [==============================] - 23s 2s/step - loss: 0.1635 - accuracy: 0.9635 - val_loss: 1.4775 - val_accuracy: 0.4960\n",
      "Epoch 7/10\n",
      "12/12 [==============================] - 23s 2s/step - loss: 0.0533 - accuracy: 0.9870 - val_loss: 1.3982 - val_accuracy: 0.5220\n",
      "Epoch 8/10\n",
      "12/12 [==============================] - 23s 2s/step - loss: 0.0124 - accuracy: 1.0000 - val_loss: 2.1013 - val_accuracy: 0.4616\n",
      "Epoch 9/10\n",
      "12/12 [==============================] - 23s 2s/step - loss: 0.0037 - accuracy: 1.0000 - val_loss: 1.9521 - val_accuracy: 0.5153\n",
      "Epoch 10/10\n",
      "12/12 [==============================] - 23s 2s/step - loss: 0.0016 - accuracy: 1.0000 - val_loss: 1.9624 - val_accuracy: 0.5373\n"
     ]
    }
   ],
   "source": [
    "hist2 = model2.fit(X_train, \n",
    "                 y_train, \n",
    "                 validation_data=(X_val, y_val), \n",
    "                 batch_size=32, \n",
    "                 epochs = 10,)\n"
   ]
  },
  {
   "cell_type": "code",
   "execution_count": 44,
   "id": "b4066b0b",
   "metadata": {},
   "outputs": [
    {
     "name": "stdout",
     "output_type": "stream",
     "text": [
      "Epoch 1/10\n",
      "12/12 [==============================] - 22s 222ms/step - loss: 1.3895 - accuracy: 0.2318 - val_loss: 1.3855 - val_accuracy: 0.2605\n",
      "Epoch 2/10\n",
      "12/12 [==============================] - 2s 159ms/step - loss: 1.3630 - accuracy: 0.2917 - val_loss: 1.3617 - val_accuracy: 0.2978\n",
      "Epoch 3/10\n",
      "12/12 [==============================] - 2s 167ms/step - loss: 1.1770 - accuracy: 0.6615 - val_loss: 1.1964 - val_accuracy: 0.4818\n",
      "Epoch 4/10\n",
      "12/12 [==============================] - 2s 161ms/step - loss: 0.5588 - accuracy: 0.8359 - val_loss: 1.0610 - val_accuracy: 0.5711\n",
      "Epoch 5/10\n",
      "12/12 [==============================] - 2s 159ms/step - loss: 0.1602 - accuracy: 0.9792 - val_loss: 1.2033 - val_accuracy: 0.5061\n",
      "Epoch 6/10\n",
      "12/12 [==============================] - 2s 161ms/step - loss: 0.0439 - accuracy: 0.9870 - val_loss: 1.2848 - val_accuracy: 0.5598\n",
      "Epoch 7/10\n",
      "12/12 [==============================] - 2s 169ms/step - loss: 0.0075 - accuracy: 1.0000 - val_loss: 1.3303 - val_accuracy: 0.6023\n",
      "Epoch 8/10\n",
      "12/12 [==============================] - 2s 167ms/step - loss: 0.1630 - accuracy: 0.9479 - val_loss: 1.1824 - val_accuracy: 0.5315\n",
      "Epoch 9/10\n",
      "12/12 [==============================] - 2s 162ms/step - loss: 0.0613 - accuracy: 0.9948 - val_loss: 1.2589 - val_accuracy: 0.4980\n",
      "Epoch 10/10\n",
      "12/12 [==============================] - 2s 159ms/step - loss: 0.0173 - accuracy: 1.0000 - val_loss: 1.2095 - val_accuracy: 0.5838\n"
     ]
    }
   ],
   "source": [
    "hist3 = model3.fit(X_train, \n",
    "                 y_train, \n",
    "                 validation_data=(X_val, y_val), \n",
    "                 batch_size=32, \n",
    "                 epochs = 10,)\n"
   ]
  },
  {
   "cell_type": "code",
   "execution_count": 45,
   "id": "bd46f1c7",
   "metadata": {},
   "outputs": [
    {
     "name": "stdout",
     "output_type": "stream",
     "text": [
      "Epoch 1/10\n",
      "12/12 [==============================] - 23s 2s/step - loss: 1.3863 - accuracy: 0.2526 - val_loss: 1.3840 - val_accuracy: 0.2681\n",
      "Epoch 2/10\n",
      "12/12 [==============================] - 22s 2s/step - loss: 1.3629 - accuracy: 0.3490 - val_loss: 1.3744 - val_accuracy: 0.2747\n",
      "Epoch 3/10\n",
      "12/12 [==============================] - 22s 2s/step - loss: 1.2696 - accuracy: 0.5234 - val_loss: 1.3381 - val_accuracy: 0.3296\n",
      "Epoch 4/10\n",
      "12/12 [==============================] - 22s 2s/step - loss: 0.8895 - accuracy: 0.6953 - val_loss: 1.2122 - val_accuracy: 0.4359\n",
      "Epoch 5/10\n",
      "12/12 [==============================] - 22s 2s/step - loss: 0.4365 - accuracy: 0.9010 - val_loss: 1.3199 - val_accuracy: 0.4731\n",
      "Epoch 6/10\n",
      "12/12 [==============================] - 22s 2s/step - loss: 0.1537 - accuracy: 0.9583 - val_loss: 1.3643 - val_accuracy: 0.5263\n",
      "Epoch 7/10\n",
      "12/12 [==============================] - 22s 2s/step - loss: 0.0240 - accuracy: 0.9948 - val_loss: 1.7639 - val_accuracy: 0.4983\n",
      "Epoch 8/10\n",
      "12/12 [==============================] - 22s 2s/step - loss: 0.0063 - accuracy: 1.0000 - val_loss: 1.5707 - val_accuracy: 0.5439\n",
      "Epoch 9/10\n",
      "12/12 [==============================] - 22s 2s/step - loss: 0.0030 - accuracy: 1.0000 - val_loss: 1.5699 - val_accuracy: 0.5523\n",
      "Epoch 10/10\n",
      "12/12 [==============================] - 22s 2s/step - loss: 0.0011 - accuracy: 1.0000 - val_loss: 1.6303 - val_accuracy: 0.5557\n"
     ]
    }
   ],
   "source": [
    "hist4 = model4.fit(X_train, \n",
    "                 y_train, \n",
    "                 validation_data=(X_val, y_val), \n",
    "                 batch_size=32, \n",
    "                 epochs = 10,)"
   ]
  },
  {
   "cell_type": "code",
   "execution_count": 46,
   "id": "7882c3fa",
   "metadata": {
    "scrolled": true
   },
   "outputs": [
    {
     "data": {
      "image/png": "[encoded data removed]",
      "text/plain": [
       "<Figure size 432x288 with 2 Axes>"
      ]
     },
     "metadata": {
      "needs_background": "light"
     },
     "output_type": "display_data"
    }
   ],
   "source": [
    "fig, loss_ax = plt.subplots()\n",
    "acc_ax = loss_ax.twinx()\n",
    "\n",
    "loss_ax.plot(hist1.history['loss'], 'y', label = 'train loss')\n",
    "loss_ax.plot(hist1.history['val_loss'], 'r', label = 'val loss')\n",
    "acc_ax.plot(hist1.history['accuracy'], 'b', label = 'train accuracy')\n",
    "acc_ax.plot(hist1.history['val_accuracy'], 'g', label = 'valid accuracy')\n",
    "\n",
    "loss_ax.set_xlabel('epoch')\n",
    "loss_ax.set_ylabel('loss')\n",
    "acc_ax.set_ylabel('accuracy')\n",
    "\n",
    "loss_ax.legend(loc='upper left')\n",
    "acc_ax.legend(loc='lower left')\n",
    "\n",
    "plt.show()"
   ]
  },
  {
   "cell_type": "code",
   "execution_count": 47,
   "id": "e59a73f4",
   "metadata": {},
   "outputs": [
    {
     "data": {
      "image/png": "[encoded data removed]",
      "text/plain": [
       "<Figure size 432x288 with 2 Axes>"
      ]
     },
     "metadata": {
      "needs_background": "light"
     },
     "output_type": "display_data"
    }
   ],
   "source": [
    "fig, loss_ax = plt.subplots()\n",
    "acc_ax = loss_ax.twinx()\n",
    "\n",
    "loss_ax.plot(hist2.history['loss'], 'y', label = 'train loss')\n",
    "loss_ax.plot(hist2.history['val_loss'], 'r', label = 'val loss')\n",
    "acc_ax.plot(hist2.history['accuracy'], 'b', label = 'train accuracy')\n",
    "acc_ax.plot(hist2.history['val_accuracy'], 'g', label = 'valid accuracy')\n",
    "\n",
    "loss_ax.set_xlabel('epoch')\n",
    "loss_ax.set_ylabel('loss')\n",
    "acc_ax.set_ylabel('accuracy')\n",
    "\n",
    "loss_ax.legend(loc='upper left')\n",
    "acc_ax.legend(loc='lower left')\n",
    "\n",
    "plt.show()"
   ]
  },
  {
   "cell_type": "code",
   "execution_count": 48,
   "id": "71ad9025",
   "metadata": {},
   "outputs": [
    {
     "data": {
      "image/png": "[encoded data removed]",
      "text/plain": [
       "<Figure size 432x288 with 2 Axes>"
      ]
     },
     "metadata": {
      "needs_background": "light"
     },
     "output_type": "display_data"
    }
   ],
   "source": [
    "fig, loss_ax = plt.subplots()\n",
    "acc_ax = loss_ax.twinx()\n",
    "\n",
    "loss_ax.plot(hist3.history['loss'], 'y', label = 'train loss')\n",
    "loss_ax.plot(hist3.history['val_loss'], 'r', label = 'val loss')\n",
    "acc_ax.plot(hist3.history['accuracy'], 'b', label = 'train accuracy')\n",
    "acc_ax.plot(hist3.history['val_accuracy'], 'g', label = 'valid accuracy')\n",
    "\n",
    "loss_ax.set_xlabel('epoch')\n",
    "loss_ax.set_ylabel('loss')\n",
    "acc_ax.set_ylabel('accuracy')\n",
    "\n",
    "loss_ax.legend(loc='upper left')\n",
    "acc_ax.legend(loc='lower left')\n",
    "\n",
    "plt.show()"
   ]
  },
  {
   "cell_type": "code",
   "execution_count": 49,
   "id": "ff9a2a4d",
   "metadata": {},
   "outputs": [
    {
     "data": {
      "image/png": "[encoded data removed]",
      "text/plain": [
       "<Figure size 432x288 with 2 Axes>"
      ]
     },
     "metadata": {
      "needs_background": "light"
     },
     "output_type": "display_data"
    }
   ],
   "source": [
    "fig, loss_ax = plt.subplots()\n",
    "acc_ax = loss_ax.twinx()\n",
    "\n",
    "loss_ax.plot(hist4.history['loss'], 'y', label = 'train loss')\n",
    "loss_ax.plot(hist4.history['val_loss'], 'r', label = 'val loss')\n",
    "acc_ax.plot(hist4.history['accuracy'], 'b', label = 'train accuracy')\n",
    "acc_ax.plot(hist4.history['val_accuracy'], 'g', label = 'valid accuracy')\n",
    "\n",
    "loss_ax.set_xlabel('epoch')\n",
    "loss_ax.set_ylabel('loss')\n",
    "acc_ax.set_ylabel('accuracy')\n",
    "\n",
    "loss_ax.legend(loc='upper left')\n",
    "acc_ax.legend(loc='lower left')\n",
    "\n",
    "plt.show()"
   ]
  },
  {
   "cell_type": "markdown",
   "id": "5078c67a",
   "metadata": {},
   "source": [
    "---"
   ]
  },
  {
   "cell_type": "code",
   "execution_count": 50,
   "id": "80c12d98",
   "metadata": {},
   "outputs": [
    {
     "data": {
      "text/html": [
       "<div>\n",
       "<style scoped>\n",
       "    .dataframe tbody tr th:only-of-type {\n",
       "        vertical-align: middle;\n",
       "    }\n",
       "\n",
       "    .dataframe tbody tr th {\n",
       "        vertical-align: top;\n",
       "    }\n",
       "\n",
       "    .dataframe thead th {\n",
       "        text-align: right;\n",
       "    }\n",
       "</style>\n",
       "<table border=\"1\" class=\"dataframe\">\n",
       "  <thead>\n",
       "    <tr style=\"text-align: right;\">\n",
       "      <th></th>\n",
       "      <th>text</th>\n",
       "    </tr>\n",
       "  </thead>\n",
       "  <tbody>\n",
       "    <tr>\n",
       "      <th>t_000</th>\n",
       "      <td>아가씨 담배한갑주소 네 4500원입니다 어 네 지갑어디갔지 에이 버스에서 잃어버렸나...</td>\n",
       "    </tr>\n",
       "    <tr>\n",
       "      <th>t_001</th>\n",
       "      <td>우리팀에서 다른팀으로 갈 사람 없나? 그럼 영지씨가 가는건 어때?  네? 제가요? ...</td>\n",
       "    </tr>\n",
       "    <tr>\n",
       "      <th>t_002</th>\n",
       "      <td>너 오늘 그게 뭐야 네 제가 뭘 잘못했나요.? 제대로 좀 하지 네 똑바로 좀 하지 ...</td>\n",
       "    </tr>\n",
       "    <tr>\n",
       "      <th>t_004</th>\n",
       "      <td>아무튼 앞으로 니가 내 와이파이야. .응 와이파이 온. 켰어. 반말? 주인님이라고도...</td>\n",
       "    </tr>\n",
       "    <tr>\n",
       "      <th>t_005</th>\n",
       "      <td>그러니까 빨리 말해. 선생님 제발 살려주십시오.  비밀번호 틀릴 때마다 손톱 하나씩...</td>\n",
       "    </tr>\n",
       "  </tbody>\n",
       "</table>\n",
       "</div>"
      ],
      "text/plain": [
       "                                                    text\n",
       "t_000  아가씨 담배한갑주소 네 4500원입니다 어 네 지갑어디갔지 에이 버스에서 잃어버렸나...\n",
       "t_001  우리팀에서 다른팀으로 갈 사람 없나? 그럼 영지씨가 가는건 어때?  네? 제가요? ...\n",
       "t_002  너 오늘 그게 뭐야 네 제가 뭘 잘못했나요.? 제대로 좀 하지 네 똑바로 좀 하지 ...\n",
       "t_004  아무튼 앞으로 니가 내 와이파이야. .응 와이파이 온. 켰어. 반말? 주인님이라고도...\n",
       "t_005  그러니까 빨리 말해. 선생님 제발 살려주십시오.  비밀번호 틀릴 때마다 손톱 하나씩..."
      ]
     },
     "execution_count": 50,
     "metadata": {},
     "output_type": "execute_result"
    }
   ],
   "source": [
    "test_data = pd.read_json(\"~/aiffel/dktc/data/test.json\")\n",
    "test_data = test_data.transpose()\n",
    "test_data.head()"
   ]
  },
  {
   "cell_type": "code",
   "execution_count": 51,
   "id": "23b4ffd8",
   "metadata": {},
   "outputs": [],
   "source": [
    "test_corpus = [preprocess_sentence(s) for s in test_data[\"text\"]]\n",
    "tokenized_test_corpus = []\n",
    "for idx in range(len(test_corpus)):\n",
    "    tokenized_test_corpus.append(spm_tokenizer.EncodeAsIds(test_corpus[idx]))\n",
    "    \n",
    "X_test = tf.keras.preprocessing.sequence.pad_sequences(tokenized_test_corpus, padding='pre', maxlen=max_len)"
   ]
  },
  {
   "cell_type": "code",
   "execution_count": 52,
   "id": "d384b9e6",
   "metadata": {},
   "outputs": [],
   "source": [
    "predicted1 = model1.predict(X_test)\n",
    "predicted2 = model2.predict(X_test)\n",
    "predicted3 = model3.predict(X_test)\n",
    "predicted4 = model4.predict(X_test)"
   ]
  },
  {
   "cell_type": "code",
   "execution_count": 53,
   "id": "d9460d42",
   "metadata": {},
   "outputs": [],
   "source": [
    "import numpy as np\n",
    "\n",
    "predicted1 = np.argmax(predicted1, axis=-1)\n",
    "predicted2 = np.argmax(predicted2, axis=-1)\n",
    "predicted3 = np.argmax(predicted3, axis=-1)\n",
    "predicted4 = np.argmax(predicted4, axis=-1)"
   ]
  },
  {
   "cell_type": "markdown",
   "id": "e8b2d327",
   "metadata": {},
   "source": [
    "---"
   ]
  },
  {
   "cell_type": "code",
   "execution_count": 54,
   "id": "f2240db6",
   "metadata": {},
   "outputs": [],
   "source": [
    "submission1 = pd.read_csv(\"~/aiffel/dktc/data/submission.csv\")\n",
    "submission2 = pd.read_csv(\"~/aiffel/dktc/data/submission.csv\")\n",
    "submission3 = pd.read_csv(\"~/aiffel/dktc/data/submission.csv\")\n",
    "submission4 = pd.read_csv(\"~/aiffel/dktc/data/submission.csv\")"
   ]
  },
  {
   "cell_type": "code",
   "execution_count": 55,
   "id": "8eb8dc42",
   "metadata": {},
   "outputs": [],
   "source": [
    "submission1['class'] = predicted1\n",
    "submission2['class'] = predicted2\n",
    "submission3['class'] = predicted3\n",
    "submission4['class'] = predicted4"
   ]
  },
  {
   "cell_type": "code",
   "execution_count": 56,
   "id": "4c4a610d",
   "metadata": {},
   "outputs": [
    {
     "data": {
      "text/html": [
       "<div>\n",
       "<style scoped>\n",
       "    .dataframe tbody tr th:only-of-type {\n",
       "        vertical-align: middle;\n",
       "    }\n",
       "\n",
       "    .dataframe tbody tr th {\n",
       "        vertical-align: top;\n",
       "    }\n",
       "\n",
       "    .dataframe thead th {\n",
       "        text-align: right;\n",
       "    }\n",
       "</style>\n",
       "<table border=\"1\" class=\"dataframe\">\n",
       "  <thead>\n",
       "    <tr style=\"text-align: right;\">\n",
       "      <th></th>\n",
       "      <th>file_name</th>\n",
       "      <th>class</th>\n",
       "    </tr>\n",
       "  </thead>\n",
       "  <tbody>\n",
       "    <tr>\n",
       "      <th>0</th>\n",
       "      <td>t_000</td>\n",
       "      <td>2</td>\n",
       "    </tr>\n",
       "    <tr>\n",
       "      <th>1</th>\n",
       "      <td>t_001</td>\n",
       "      <td>2</td>\n",
       "    </tr>\n",
       "    <tr>\n",
       "      <th>2</th>\n",
       "      <td>t_002</td>\n",
       "      <td>2</td>\n",
       "    </tr>\n",
       "    <tr>\n",
       "      <th>3</th>\n",
       "      <td>t_004</td>\n",
       "      <td>3</td>\n",
       "    </tr>\n",
       "    <tr>\n",
       "      <th>4</th>\n",
       "      <td>t_005</td>\n",
       "      <td>1</td>\n",
       "    </tr>\n",
       "  </tbody>\n",
       "</table>\n",
       "</div>"
      ],
      "text/plain": [
       "  file_name  class\n",
       "0     t_000      2\n",
       "1     t_001      2\n",
       "2     t_002      2\n",
       "3     t_004      3\n",
       "4     t_005      1"
      ]
     },
     "execution_count": 56,
     "metadata": {},
     "output_type": "execute_result"
    }
   ],
   "source": [
    "submission1.head()\n",
    "submission2.head()\n",
    "submission3.head()\n",
    "submission4.head()"
   ]
  },
  {
   "cell_type": "code",
   "execution_count": 57,
   "id": "164e3b1b",
   "metadata": {},
   "outputs": [],
   "source": [
    "submission1.to_csv(\"SimpleRNN_2228.csv\", index=False) ## ACCURACY: 0.245\n",
    "submission2.to_csv(\"LSTM_2228.csv\", index=False) ## ACCURACY: 0.54\n",
    "submission3.to_csv(\"Bidirectional_LSTM_2228.csv\", index=False) ## ACCURACY: 0.525\n",
    "submission4.to_csv(\"GRU2228.csv\", index=False) ## ACCURACY: 0.42\n"
   ]
  },
  {
   "cell_type": "code",
   "execution_count": 58,
   "id": "49afa4cc",
   "metadata": {},
   "outputs": [],
   "source": [
    "#submission.to_csv(\"GRU+dropout.csv\", index=False) ##\n",
    "#submission.to_csv(\"LSTM+dropout.csv\", index=False) ##\n"
   ]
  },
  {
   "cell_type": "code",
   "execution_count": 59,
   "id": "b7cb6997",
   "metadata": {},
   "outputs": [
    {
     "data": {
      "text/plain": [
       "400"
      ]
     },
     "execution_count": 59,
     "metadata": {},
     "output_type": "execute_result"
    }
   ],
   "source": [
    "len(submission1)"
   ]
  },
  {
   "cell_type": "code",
   "execution_count": null,
   "id": "818fb4a0",
   "metadata": {},
   "outputs": [],
   "source": []
  },
  {
   "cell_type": "code",
   "execution_count": null,
   "id": "08d1080c",
   "metadata": {},
   "outputs": [],
   "source": []
  },
  {
   "cell_type": "code",
   "execution_count": null,
   "id": "b659ada1",
   "metadata": {},
   "outputs": [],
   "source": []
  }
 ],
 "metadata": {
  "kernelspec": {
   "display_name": "Python 3 (ipykernel)",
   "language": "python",
   "name": "python3"
  },
  "language_info": {
   "codemirror_mode": {
    "name": "ipython",
    "version": 3
   },
   "file_extension": ".py",
   "mimetype": "text/x-python",
   "name": "python",
   "nbconvert_exporter": "python",
   "pygments_lexer": "ipython3",
   "version": "3.9.7"
  }
 },
 "nbformat": 4,
 "nbformat_minor": 5
}
