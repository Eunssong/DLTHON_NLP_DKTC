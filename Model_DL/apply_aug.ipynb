{
 "cells": [
  {
   "cell_type": "code",
   "execution_count": 1,
   "id": "1899b3f5",
   "metadata": {},
   "outputs": [],
   "source": [
    "import pandas as pd\n",
    "import tensorflow as tf\n",
    "from tensorflow import keras\n",
    "from sklearn.model_selection import train_test_split\n",
    "from sklearn.preprocessing import LabelEncoder\n",
    "import os"
   ]
  },
  {
   "cell_type": "markdown",
   "id": "3cc1c5c3",
   "metadata": {},
   "source": [
    "## Data load"
   ]
  },
  {
   "cell_type": "code",
   "execution_count": 2,
   "id": "91edcbcf",
   "metadata": {},
   "outputs": [
    {
     "data": {
      "text/html": [
       "<div>\n",
       "<style scoped>\n",
       "    .dataframe tbody tr th:only-of-type {\n",
       "        vertical-align: middle;\n",
       "    }\n",
       "\n",
       "    .dataframe tbody tr th {\n",
       "        vertical-align: top;\n",
       "    }\n",
       "\n",
       "    .dataframe thead th {\n",
       "        text-align: right;\n",
       "    }\n",
       "</style>\n",
       "<table border=\"1\" class=\"dataframe\">\n",
       "  <thead>\n",
       "    <tr style=\"text-align: right;\">\n",
       "      <th></th>\n",
       "      <th>idx</th>\n",
       "      <th>class</th>\n",
       "      <th>conversation</th>\n",
       "    </tr>\n",
       "  </thead>\n",
       "  <tbody>\n",
       "    <tr>\n",
       "      <th>0</th>\n",
       "      <td>0</td>\n",
       "      <td>협박 대화</td>\n",
       "      <td>지금 너 스스로를 죽여달라고 애원하는 것인가?\\n 아닙니다. 죄송합니다.\\n 죽을 ...</td>\n",
       "    </tr>\n",
       "    <tr>\n",
       "      <th>1</th>\n",
       "      <td>1</td>\n",
       "      <td>협박 대화</td>\n",
       "      <td>길동경찰서입니다.\\n9시 40분 마트에 폭발물을 설치할거다.\\n네?\\n똑바로 들어 ...</td>\n",
       "    </tr>\n",
       "    <tr>\n",
       "      <th>2</th>\n",
       "      <td>2</td>\n",
       "      <td>기타 괴롭힘 대화</td>\n",
       "      <td>너 되게 귀여운거 알지? 나보다 작은 남자는 첨봤어.\\n그만해. 니들 놀리는거 재미...</td>\n",
       "    </tr>\n",
       "    <tr>\n",
       "      <th>3</th>\n",
       "      <td>3</td>\n",
       "      <td>갈취 대화</td>\n",
       "      <td>어이 거기\\n예??\\n너 말이야 너. 이리 오라고\\n무슨 일.\\n너 옷 좋아보인다?...</td>\n",
       "    </tr>\n",
       "    <tr>\n",
       "      <th>4</th>\n",
       "      <td>4</td>\n",
       "      <td>갈취 대화</td>\n",
       "      <td>저기요 혹시 날이 너무 뜨겁잖아요? 저희 회사에서 이 선크림 파는데 한 번 손등에 ...</td>\n",
       "    </tr>\n",
       "  </tbody>\n",
       "</table>\n",
       "</div>"
      ],
      "text/plain": [
       "   idx      class                                       conversation\n",
       "0    0      협박 대화  지금 너 스스로를 죽여달라고 애원하는 것인가?\\n 아닙니다. 죄송합니다.\\n 죽을 ...\n",
       "1    1      협박 대화  길동경찰서입니다.\\n9시 40분 마트에 폭발물을 설치할거다.\\n네?\\n똑바로 들어 ...\n",
       "2    2  기타 괴롭힘 대화  너 되게 귀여운거 알지? 나보다 작은 남자는 첨봤어.\\n그만해. 니들 놀리는거 재미...\n",
       "3    3      갈취 대화  어이 거기\\n예??\\n너 말이야 너. 이리 오라고\\n무슨 일.\\n너 옷 좋아보인다?...\n",
       "4    4      갈취 대화  저기요 혹시 날이 너무 뜨겁잖아요? 저희 회사에서 이 선크림 파는데 한 번 손등에 ..."
      ]
     },
     "execution_count": 2,
     "metadata": {},
     "output_type": "execute_result"
    }
   ],
   "source": [
    "# data load\n",
    "train_data_path =\"~/aiffel/dktc/data/train.csv\"\n",
    "train_data = pd.read_csv(train_data_path)\n",
    "train_data.head()"
   ]
  },
  {
   "cell_type": "markdown",
   "id": "5b2b0230",
   "metadata": {},
   "source": [
    "### label encoding"
   ]
  },
  {
   "cell_type": "code",
   "execution_count": 3,
   "id": "21752b9a",
   "metadata": {},
   "outputs": [
    {
     "data": {
      "text/html": [
       "<div>\n",
       "<style scoped>\n",
       "    .dataframe tbody tr th:only-of-type {\n",
       "        vertical-align: middle;\n",
       "    }\n",
       "\n",
       "    .dataframe tbody tr th {\n",
       "        vertical-align: top;\n",
       "    }\n",
       "\n",
       "    .dataframe thead th {\n",
       "        text-align: right;\n",
       "    }\n",
       "</style>\n",
       "<table border=\"1\" class=\"dataframe\">\n",
       "  <thead>\n",
       "    <tr style=\"text-align: right;\">\n",
       "      <th></th>\n",
       "      <th>idx</th>\n",
       "      <th>class</th>\n",
       "      <th>conversation</th>\n",
       "    </tr>\n",
       "  </thead>\n",
       "  <tbody>\n",
       "    <tr>\n",
       "      <th>0</th>\n",
       "      <td>0</td>\n",
       "      <td>0</td>\n",
       "      <td>지금 너 스스로를 죽여달라고 애원하는 것인가?\\n 아닙니다. 죄송합니다.\\n 죽을 ...</td>\n",
       "    </tr>\n",
       "    <tr>\n",
       "      <th>1</th>\n",
       "      <td>1</td>\n",
       "      <td>0</td>\n",
       "      <td>길동경찰서입니다.\\n9시 40분 마트에 폭발물을 설치할거다.\\n네?\\n똑바로 들어 ...</td>\n",
       "    </tr>\n",
       "    <tr>\n",
       "      <th>2</th>\n",
       "      <td>2</td>\n",
       "      <td>3</td>\n",
       "      <td>너 되게 귀여운거 알지? 나보다 작은 남자는 첨봤어.\\n그만해. 니들 놀리는거 재미...</td>\n",
       "    </tr>\n",
       "    <tr>\n",
       "      <th>3</th>\n",
       "      <td>3</td>\n",
       "      <td>1</td>\n",
       "      <td>어이 거기\\n예??\\n너 말이야 너. 이리 오라고\\n무슨 일.\\n너 옷 좋아보인다?...</td>\n",
       "    </tr>\n",
       "    <tr>\n",
       "      <th>4</th>\n",
       "      <td>4</td>\n",
       "      <td>1</td>\n",
       "      <td>저기요 혹시 날이 너무 뜨겁잖아요? 저희 회사에서 이 선크림 파는데 한 번 손등에 ...</td>\n",
       "    </tr>\n",
       "  </tbody>\n",
       "</table>\n",
       "</div>"
      ],
      "text/plain": [
       "   idx  class                                       conversation\n",
       "0    0      0  지금 너 스스로를 죽여달라고 애원하는 것인가?\\n 아닙니다. 죄송합니다.\\n 죽을 ...\n",
       "1    1      0  길동경찰서입니다.\\n9시 40분 마트에 폭발물을 설치할거다.\\n네?\\n똑바로 들어 ...\n",
       "2    2      3  너 되게 귀여운거 알지? 나보다 작은 남자는 첨봤어.\\n그만해. 니들 놀리는거 재미...\n",
       "3    3      1  어이 거기\\n예??\\n너 말이야 너. 이리 오라고\\n무슨 일.\\n너 옷 좋아보인다?...\n",
       "4    4      1  저기요 혹시 날이 너무 뜨겁잖아요? 저희 회사에서 이 선크림 파는데 한 번 손등에 ..."
      ]
     },
     "execution_count": 3,
     "metadata": {},
     "output_type": "execute_result"
    }
   ],
   "source": [
    "# label encoding\n",
    "CLASS_NAMES = ['협박 대화', '갈취 대화', '직장 내 괴롭힘 대화', '기타 괴롭힘 대화']\n",
    "\n",
    "class_dict = {}\n",
    "for idx, class_name in enumerate(CLASS_NAMES):\n",
    "    class_dict[class_name] = idx\n",
    "\n",
    "train_data['class'] = train_data['class'].apply(lambda s: class_dict[s])\n",
    "\n",
    "train_data.head()"
   ]
  },
  {
   "cell_type": "markdown",
   "id": "2af613cf",
   "metadata": {},
   "source": [
    "## Preprocessing"
   ]
  },
  {
   "cell_type": "code",
   "execution_count": 4,
   "id": "7d8d9d3f",
   "metadata": {},
   "outputs": [
    {
     "data": {
      "text/html": [
       "<div>\n",
       "<style scoped>\n",
       "    .dataframe tbody tr th:only-of-type {\n",
       "        vertical-align: middle;\n",
       "    }\n",
       "\n",
       "    .dataframe tbody tr th {\n",
       "        vertical-align: top;\n",
       "    }\n",
       "\n",
       "    .dataframe thead th {\n",
       "        text-align: right;\n",
       "    }\n",
       "</style>\n",
       "<table border=\"1\" class=\"dataframe\">\n",
       "  <thead>\n",
       "    <tr style=\"text-align: right;\">\n",
       "      <th></th>\n",
       "      <th>idx</th>\n",
       "      <th>class</th>\n",
       "      <th>conversation</th>\n",
       "    </tr>\n",
       "  </thead>\n",
       "  <tbody>\n",
       "    <tr>\n",
       "      <th>392</th>\n",
       "      <td>392</td>\n",
       "      <td>3</td>\n",
       "      <td>병신이 아이스크림 먹게 돼 있냐?\\n난 먹으면 안 돼? 그만 좀 해.\\n당연히 안 ...</td>\n",
       "    </tr>\n",
       "    <tr>\n",
       "      <th>523</th>\n",
       "      <td>523</td>\n",
       "      <td>2</td>\n",
       "      <td>과장님. 저 이번에 휴가 좀 갔다와도 되겠습니까.?\\n휴가? 왜??\\n좀 쉬다가 오...</td>\n",
       "    </tr>\n",
       "    <tr>\n",
       "      <th>789</th>\n",
       "      <td>789</td>\n",
       "      <td>3</td>\n",
       "      <td>야 얘 이 쪽 손가락 세 개밖에 없다\\n엥 손가락이 세개밖에 없을 수가 있어?\\n봐...</td>\n",
       "    </tr>\n",
       "    <tr>\n",
       "      <th>824</th>\n",
       "      <td>824</td>\n",
       "      <td>3</td>\n",
       "      <td>이야 내동생 여자친구한테 편지쓰네?\\n 아 형 돌려줘.\\n 어디보자. 사랑하는 여친...</td>\n",
       "    </tr>\n",
       "    <tr>\n",
       "      <th>869</th>\n",
       "      <td>869</td>\n",
       "      <td>2</td>\n",
       "      <td>지현씨 나 소개팅 좀 시켜줘봐\\n네? 저 주변에 아는 사람이 없어서요\\n아 상사라 ...</td>\n",
       "    </tr>\n",
       "    <tr>\n",
       "      <th>...</th>\n",
       "      <td>...</td>\n",
       "      <td>...</td>\n",
       "      <td>...</td>\n",
       "    </tr>\n",
       "    <tr>\n",
       "      <th>3797</th>\n",
       "      <td>3797</td>\n",
       "      <td>3</td>\n",
       "      <td>너 이번 방학 때 쌍꺼풀 수술 하고왔지?\\n아닌데?\\n아니긴 뭐가 아니야. 눈이 이...</td>\n",
       "    </tr>\n",
       "    <tr>\n",
       "      <th>3798</th>\n",
       "      <td>3798</td>\n",
       "      <td>3</td>\n",
       "      <td>안녕하세요 지금 먹방 촬영중인데 촬영가능할까요?\\n안돼요\\n한번만 안될까요?\\n안돼...</td>\n",
       "    </tr>\n",
       "    <tr>\n",
       "      <th>3855</th>\n",
       "      <td>3855</td>\n",
       "      <td>3</td>\n",
       "      <td>그 소문 진짜야? 너가 다른 애들 뒷담화하고 다녔다며?\\n응? 나 그런 적 없는데?...</td>\n",
       "    </tr>\n",
       "    <tr>\n",
       "      <th>3874</th>\n",
       "      <td>3874</td>\n",
       "      <td>3</td>\n",
       "      <td>야 니 왤캐 못생겼냐?\\n뭐라그랬냐?\\n으 나 보고 말하지마 니 얼굴보면 토나올거 ...</td>\n",
       "    </tr>\n",
       "    <tr>\n",
       "      <th>3928</th>\n",
       "      <td>3928</td>\n",
       "      <td>3</td>\n",
       "      <td>새파랗게 젊은게 어디 여길 앉아있어\\n저 임산부에요\\n사지 멀쩡한게! 임신이 벼슬이...</td>\n",
       "    </tr>\n",
       "  </tbody>\n",
       "</table>\n",
       "<p>104 rows × 3 columns</p>\n",
       "</div>"
      ],
      "text/plain": [
       "       idx  class                                       conversation\n",
       "392    392      3  병신이 아이스크림 먹게 돼 있냐?\\n난 먹으면 안 돼? 그만 좀 해.\\n당연히 안 ...\n",
       "523    523      2  과장님. 저 이번에 휴가 좀 갔다와도 되겠습니까.?\\n휴가? 왜??\\n좀 쉬다가 오...\n",
       "789    789      3  야 얘 이 쪽 손가락 세 개밖에 없다\\n엥 손가락이 세개밖에 없을 수가 있어?\\n봐...\n",
       "824    824      3  이야 내동생 여자친구한테 편지쓰네?\\n 아 형 돌려줘.\\n 어디보자. 사랑하는 여친...\n",
       "869    869      2  지현씨 나 소개팅 좀 시켜줘봐\\n네? 저 주변에 아는 사람이 없어서요\\n아 상사라 ...\n",
       "...    ...    ...                                                ...\n",
       "3797  3797      3  너 이번 방학 때 쌍꺼풀 수술 하고왔지?\\n아닌데?\\n아니긴 뭐가 아니야. 눈이 이...\n",
       "3798  3798      3  안녕하세요 지금 먹방 촬영중인데 촬영가능할까요?\\n안돼요\\n한번만 안될까요?\\n안돼...\n",
       "3855  3855      3  그 소문 진짜야? 너가 다른 애들 뒷담화하고 다녔다며?\\n응? 나 그런 적 없는데?...\n",
       "3874  3874      3  야 니 왤캐 못생겼냐?\\n뭐라그랬냐?\\n으 나 보고 말하지마 니 얼굴보면 토나올거 ...\n",
       "3928  3928      3  새파랗게 젊은게 어디 여길 앉아있어\\n저 임산부에요\\n사지 멀쩡한게! 임신이 벼슬이...\n",
       "\n",
       "[104 rows x 3 columns]"
      ]
     },
     "execution_count": 4,
     "metadata": {},
     "output_type": "execute_result"
    }
   ],
   "source": [
    "# 중복 확인\n",
    "train_data[train_data.duplicated([\"class\", \"conversation\"])]"
   ]
  },
  {
   "cell_type": "code",
   "execution_count": 5,
   "id": "328bc1e4",
   "metadata": {},
   "outputs": [
    {
     "data": {
      "text/html": [
       "<div>\n",
       "<style scoped>\n",
       "    .dataframe tbody tr th:only-of-type {\n",
       "        vertical-align: middle;\n",
       "    }\n",
       "\n",
       "    .dataframe tbody tr th {\n",
       "        vertical-align: top;\n",
       "    }\n",
       "\n",
       "    .dataframe thead th {\n",
       "        text-align: right;\n",
       "    }\n",
       "</style>\n",
       "<table border=\"1\" class=\"dataframe\">\n",
       "  <thead>\n",
       "    <tr style=\"text-align: right;\">\n",
       "      <th></th>\n",
       "      <th>idx</th>\n",
       "      <th>class</th>\n",
       "      <th>conversation</th>\n",
       "    </tr>\n",
       "  </thead>\n",
       "  <tbody>\n",
       "  </tbody>\n",
       "</table>\n",
       "</div>"
      ],
      "text/plain": [
       "Empty DataFrame\n",
       "Columns: [idx, class, conversation]\n",
       "Index: []"
      ]
     },
     "execution_count": 5,
     "metadata": {},
     "output_type": "execute_result"
    }
   ],
   "source": [
    "# 중복 제거\n",
    "train_data = train_data.drop_duplicates(subset=[\"class\", \"conversation\"])\n",
    "train_data[train_data.duplicated([\"conversation\"])]"
   ]
  },
  {
   "cell_type": "code",
   "execution_count": 6,
   "id": "ce39ea76",
   "metadata": {},
   "outputs": [
    {
     "data": {
      "text/html": [
       "<div>\n",
       "<style scoped>\n",
       "    .dataframe tbody tr th:only-of-type {\n",
       "        vertical-align: middle;\n",
       "    }\n",
       "\n",
       "    .dataframe tbody tr th {\n",
       "        vertical-align: top;\n",
       "    }\n",
       "\n",
       "    .dataframe thead th {\n",
       "        text-align: right;\n",
       "    }\n",
       "</style>\n",
       "<table border=\"1\" class=\"dataframe\">\n",
       "  <thead>\n",
       "    <tr style=\"text-align: right;\">\n",
       "      <th></th>\n",
       "      <th>idx</th>\n",
       "      <th>class</th>\n",
       "      <th>conversation</th>\n",
       "    </tr>\n",
       "  </thead>\n",
       "  <tbody>\n",
       "    <tr>\n",
       "      <th>0</th>\n",
       "      <td>0</td>\n",
       "      <td>0</td>\n",
       "      <td>지금 너 스스로를 죽여달라고 애원하는 것인가?\\n 아닙니다. 죄송합니다.\\n 죽을 ...</td>\n",
       "    </tr>\n",
       "    <tr>\n",
       "      <th>1</th>\n",
       "      <td>1</td>\n",
       "      <td>0</td>\n",
       "      <td>길동경찰서입니다.\\n9시 40분 마트에 폭발물을 설치할거다.\\n네?\\n똑바로 들어 ...</td>\n",
       "    </tr>\n",
       "    <tr>\n",
       "      <th>2</th>\n",
       "      <td>2</td>\n",
       "      <td>3</td>\n",
       "      <td>너 되게 귀여운거 알지? 나보다 작은 남자는 첨봤어.\\n그만해. 니들 놀리는거 재미...</td>\n",
       "    </tr>\n",
       "    <tr>\n",
       "      <th>3</th>\n",
       "      <td>3</td>\n",
       "      <td>1</td>\n",
       "      <td>어이 거기\\n예??\\n너 말이야 너. 이리 오라고\\n무슨 일.\\n너 옷 좋아보인다?...</td>\n",
       "    </tr>\n",
       "    <tr>\n",
       "      <th>4</th>\n",
       "      <td>4</td>\n",
       "      <td>1</td>\n",
       "      <td>저기요 혹시 날이 너무 뜨겁잖아요? 저희 회사에서 이 선크림 파는데 한 번 손등에 ...</td>\n",
       "    </tr>\n",
       "    <tr>\n",
       "      <th>...</th>\n",
       "      <td>...</td>\n",
       "      <td>...</td>\n",
       "      <td>...</td>\n",
       "    </tr>\n",
       "    <tr>\n",
       "      <th>3841</th>\n",
       "      <td>3841</td>\n",
       "      <td>3</td>\n",
       "      <td>준하야 넌 대가리가 왜이렇게 크냐?\\n내 머리가 뭐.\\n밥먹으면 대가리만 크냐 너는...</td>\n",
       "    </tr>\n",
       "    <tr>\n",
       "      <th>3842</th>\n",
       "      <td>3842</td>\n",
       "      <td>1</td>\n",
       "      <td>내가 지금 너 아들 김길준 데리고 있어. 살리고 싶으면 계좌에 1억만 보내\\n예.?...</td>\n",
       "    </tr>\n",
       "    <tr>\n",
       "      <th>3843</th>\n",
       "      <td>3843</td>\n",
       "      <td>2</td>\n",
       "      <td>나는 씨 같은 사람 보면 참 신기하더라. 어떻게 저렇게 살지.\\n왜 그래. 들리겠어...</td>\n",
       "    </tr>\n",
       "    <tr>\n",
       "      <th>3844</th>\n",
       "      <td>3844</td>\n",
       "      <td>1</td>\n",
       "      <td>누구맘대로 여기서 장사하래?\\n이게 무슨일입니까?\\n남의 구역에서 장사하려면 자릿세...</td>\n",
       "    </tr>\n",
       "    <tr>\n",
       "      <th>3845</th>\n",
       "      <td>3845</td>\n",
       "      <td>2</td>\n",
       "      <td>희정씨\\n네?\\n주말에 시간이 넘쳐나나봐\\n갑자기 왜그러세요?\\n손이 빤짝빤짝 네일...</td>\n",
       "    </tr>\n",
       "  </tbody>\n",
       "</table>\n",
       "<p>3846 rows × 3 columns</p>\n",
       "</div>"
      ],
      "text/plain": [
       "       idx  class                                       conversation\n",
       "0        0      0  지금 너 스스로를 죽여달라고 애원하는 것인가?\\n 아닙니다. 죄송합니다.\\n 죽을 ...\n",
       "1        1      0  길동경찰서입니다.\\n9시 40분 마트에 폭발물을 설치할거다.\\n네?\\n똑바로 들어 ...\n",
       "2        2      3  너 되게 귀여운거 알지? 나보다 작은 남자는 첨봤어.\\n그만해. 니들 놀리는거 재미...\n",
       "3        3      1  어이 거기\\n예??\\n너 말이야 너. 이리 오라고\\n무슨 일.\\n너 옷 좋아보인다?...\n",
       "4        4      1  저기요 혹시 날이 너무 뜨겁잖아요? 저희 회사에서 이 선크림 파는데 한 번 손등에 ...\n",
       "...    ...    ...                                                ...\n",
       "3841  3841      3  준하야 넌 대가리가 왜이렇게 크냐?\\n내 머리가 뭐.\\n밥먹으면 대가리만 크냐 너는...\n",
       "3842  3842      1  내가 지금 너 아들 김길준 데리고 있어. 살리고 싶으면 계좌에 1억만 보내\\n예.?...\n",
       "3843  3843      2  나는 씨 같은 사람 보면 참 신기하더라. 어떻게 저렇게 살지.\\n왜 그래. 들리겠어...\n",
       "3844  3844      1  누구맘대로 여기서 장사하래?\\n이게 무슨일입니까?\\n남의 구역에서 장사하려면 자릿세...\n",
       "3845  3845      2  희정씨\\n네?\\n주말에 시간이 넘쳐나나봐\\n갑자기 왜그러세요?\\n손이 빤짝빤짝 네일...\n",
       "\n",
       "[3846 rows x 3 columns]"
      ]
     },
     "execution_count": 6,
     "metadata": {},
     "output_type": "execute_result"
    }
   ],
   "source": [
    "# reindexing\n",
    "train_data = train_data.reset_index(drop=True)\n",
    "train_data['idx'] = [x for x in range(len(train_data))]\n",
    "train_data"
   ]
  },
  {
   "cell_type": "markdown",
   "id": "8629a441",
   "metadata": {},
   "source": [
    "## Augmentation"
   ]
  },
  {
   "cell_type": "code",
   "execution_count": 7,
   "id": "0c64d574",
   "metadata": {},
   "outputs": [
    {
     "name": "stderr",
     "output_type": "stream",
     "text": [
      "<>:138: SyntaxWarning: \"is not\" with a literal. Did you mean \"!=\"?\n",
      "<>:138: SyntaxWarning: \"is not\" with a literal. Did you mean \"!=\"?\n",
      "/tmp/ipykernel_909/3990812560.py:138: SyntaxWarning: \"is not\" with a literal. Did you mean \"!=\"?\n",
      "  words = [word for word in words if word is not \"\"]\n"
     ]
    }
   ],
   "source": [
    "import random\n",
    "import pickle\n",
    "import re\n",
    "\n",
    "wordnet = {}\n",
    "with open(\"wordnet.pickle\", \"rb\") as f:\n",
    "\twordnet = pickle.load(f)\n",
    "\n",
    "\n",
    "# 한글만 남기고 나머지는 삭제\n",
    "def get_only_hangul(line):\n",
    "\tparseText = re.compile('/ ^[ㄱ-ㅎㅏ-ㅣ가-힣]*$/').sub('',line)\n",
    "\n",
    "\treturn parseText\n",
    "\n",
    "\n",
    "\n",
    "########################################################################\n",
    "# Synonym replacement\n",
    "# Replace n words in the sentence with synonyms from wordnet\n",
    "########################################################################\n",
    "def synonym_replacement(words, n):\n",
    "\tnew_words = words.copy()\n",
    "\trandom_word_list = list(set([word for word in words]))\n",
    "\trandom.shuffle(random_word_list)\n",
    "\tnum_replaced = 0\n",
    "\tfor random_word in random_word_list:\n",
    "\t\tsynonyms = get_synonyms(random_word)\n",
    "\t\tif len(synonyms) >= 1:\n",
    "\t\t\tsynonym = random.choice(list(synonyms))\n",
    "\t\t\tnew_words = [synonym if word == random_word else word for word in new_words]\n",
    "\t\t\tnum_replaced += 1\n",
    "\t\tif num_replaced >= n:\n",
    "\t\t\tbreak\n",
    "\n",
    "\tif len(new_words) != 0:\n",
    "\t\tsentence = ' '.join(new_words)\n",
    "\t\tnew_words = sentence.split(\" \")\n",
    "\n",
    "\telse:\n",
    "\t\tnew_words = \"\"\n",
    "\n",
    "\treturn new_words\n",
    "\n",
    "\n",
    "def get_synonyms(word):\n",
    "\tsynomyms = []\n",
    "\n",
    "\ttry:\n",
    "\t\tfor syn in wordnet[word]:\n",
    "\t\t\tfor s in syn:\n",
    "\t\t\t\tsynomyms.append(s)\n",
    "\texcept:\n",
    "\t\tpass\n",
    "\n",
    "\treturn synomyms\n",
    "\n",
    "########################################################################\n",
    "# Random deletion\n",
    "# Randomly delete words from the sentence with probability p\n",
    "########################################################################\n",
    "def random_deletion(words, p):\n",
    "\tif len(words) == 1:\n",
    "\t\treturn words\n",
    "\n",
    "\tnew_words = []\n",
    "\tfor word in words:\n",
    "\t\tr = random.uniform(0, 1)\n",
    "\t\tif r > p:\n",
    "\t\t\tnew_words.append(word)\n",
    "\n",
    "\tif len(new_words) == 0:\n",
    "\t\trand_int = random.randint(0, len(words)-1)\n",
    "\t\treturn [words[rand_int]]\n",
    "\n",
    "\treturn new_words\n",
    "\n",
    "########################################################################\n",
    "# Random swap\n",
    "# Randomly swap two words in the sentence n times\n",
    "########################################################################\n",
    "def random_swap(words, n):\n",
    "\tnew_words = words.copy()\n",
    "\tfor _ in range(n):\n",
    "\t\tnew_words = swap_word(new_words)\n",
    "\n",
    "\treturn new_words\n",
    "\n",
    "def swap_word(new_words):\n",
    "\trandom_idx_1 = random.randint(0, len(new_words)-1)\n",
    "\trandom_idx_2 = random_idx_1\n",
    "\tcounter = 0\n",
    "\n",
    "\twhile random_idx_2 == random_idx_1:\n",
    "\t\trandom_idx_2 = random.randint(0, len(new_words)-1)\n",
    "\t\tcounter += 1\n",
    "\t\tif counter > 3:\n",
    "\t\t\treturn new_words\n",
    "\n",
    "\tnew_words[random_idx_1], new_words[random_idx_2] = new_words[random_idx_2], new_words[random_idx_1]\n",
    "\treturn new_words\n",
    "\n",
    "########################################################################\n",
    "# Random insertion\n",
    "# Randomly insert n words into the sentence\n",
    "########################################################################\n",
    "def random_insertion(words, n):\n",
    "\tnew_words = words.copy()\n",
    "\tfor _ in range(n):\n",
    "\t\tadd_word(new_words)\n",
    "\t\n",
    "\treturn new_words\n",
    "\n",
    "\n",
    "def add_word(new_words):\n",
    "\tsynonyms = []\n",
    "\tcounter = 0\n",
    "\twhile len(synonyms) < 1:\n",
    "\t\tif len(new_words) >= 1:\n",
    "\t\t\trandom_word = new_words[random.randint(0, len(new_words)-1)]\n",
    "\t\t\tsynonyms = get_synonyms(random_word)\n",
    "\t\t\tcounter += 1\n",
    "\t\telse:\n",
    "\t\t\trandom_word = \"\"\n",
    "\n",
    "\t\tif counter >= 10:\n",
    "\t\t\treturn\n",
    "\t\t\n",
    "\trandom_synonym = synonyms[0]\n",
    "\trandom_idx = random.randint(0, len(new_words)-1)\n",
    "\tnew_words.insert(random_idx, random_synonym)\n",
    "\n",
    "\n",
    "\n",
    "def EDA(sentence, alpha_sr=0.1, alpha_ri=0.1, alpha_rs=0.1, p_rd=0.1, num_aug=9):\n",
    "\tsentence = get_only_hangul(sentence)\n",
    "\twords = sentence.split(' ')\n",
    "\twords = [word for word in words if word is not \"\"]\n",
    "\tnum_words = len(words)\n",
    "\n",
    "\taugmented_sentences = []\n",
    "\tnum_new_per_technique = int(num_aug/4) + 1\n",
    "\n",
    "\tn_sr = max(1, int(alpha_sr*num_words))\n",
    "\tn_ri = max(1, int(alpha_ri*num_words))\n",
    "\tn_rs = max(1, int(alpha_rs*num_words))\n",
    "    \n",
    "\t# sr\n",
    "\t#for _ in range(num_new_per_technique):\n",
    "\t#\ta_words = synonym_replacement(words, n_sr)\n",
    "\t#\taugmented_sentences.append(' '.join(a_words))\n",
    "\n",
    "\t# ri\n",
    "\t#for _ in range(num_new_per_technique):\n",
    "\t#\ta_words = random_insertion(words, n_ri)\n",
    "\t#\taugmented_sentences.append(' '.join(a_words))\n",
    "    \n",
    "\t# rs *\n",
    "\tfor _ in range(num_new_per_technique):\n",
    "\t\ta_words = random_swap(words, n_rs)\n",
    "\t\taugmented_sentences.append(\" \".join(a_words))\n",
    "\n",
    "\t# rd *\n",
    "\tfor _ in range(num_new_per_technique):\n",
    "\t\ta_words = random_deletion(words, p_rd)\n",
    "\t\taugmented_sentences.append(\" \".join(a_words))\n",
    "\n",
    "\taugmented_sentences = [get_only_hangul(sentence) for sentence in augmented_sentences]\n",
    "\trandom.shuffle(augmented_sentences)\n",
    "\n",
    "\tif num_aug >= 1:\n",
    "\t\taugmented_sentences = augmented_sentences[:num_aug]\n",
    "\telse:\n",
    "\t\tkeep_prob = num_aug / len(augmented_sentences)\n",
    "\t\taugmented_sentences = [s for s in augmented_sentences if random.uniform(0, 1) < keep_prob]\n",
    "\n",
    "\taugmented_sentences.append(sentence)\n",
    "\n",
    "\treturn augmented_sentences\n"
   ]
  },
  {
   "cell_type": "code",
   "execution_count": 8,
   "id": "93970908",
   "metadata": {},
   "outputs": [],
   "source": [
    "class_ls = []\n",
    "augcon_ls = []\n",
    "for i in range(len(train_data['conversation'])):\n",
    "    class_ = train_data['class'][i]\n",
    "    num_aug = 5 # 2: 3배\n",
    "    augcon = EDA(train_data['conversation'][i], num_aug=num_aug)\n",
    "    for j in range(num_aug):\n",
    "        class_ls.append(int(class_))\n",
    "        augcon_ls.append(augcon[j])\n",
    "        \n",
    "    #if i == 2 : break"
   ]
  },
  {
   "cell_type": "code",
   "execution_count": 9,
   "id": "638dd01e",
   "metadata": {},
   "outputs": [
    {
     "data": {
      "text/plain": [
       "19230"
      ]
     },
     "execution_count": 9,
     "metadata": {},
     "output_type": "execute_result"
    }
   ],
   "source": [
    "len(class_ls)"
   ]
  },
  {
   "cell_type": "code",
   "execution_count": 10,
   "id": "171e5e65",
   "metadata": {},
   "outputs": [],
   "source": [
    "aug_data = pd.DataFrame([class_ls, augcon_ls],\n",
    "                  index=['class','conversation'],\n",
    "                 columns=[x for x in range(len(class_ls))])\n",
    "aug_data = aug_data.transpose()"
   ]
  },
  {
   "cell_type": "code",
   "execution_count": 11,
   "id": "e0fab035",
   "metadata": {},
   "outputs": [
    {
     "data": {
      "text/html": [
       "<div>\n",
       "<style scoped>\n",
       "    .dataframe tbody tr th:only-of-type {\n",
       "        vertical-align: middle;\n",
       "    }\n",
       "\n",
       "    .dataframe tbody tr th {\n",
       "        vertical-align: top;\n",
       "    }\n",
       "\n",
       "    .dataframe thead th {\n",
       "        text-align: right;\n",
       "    }\n",
       "</style>\n",
       "<table border=\"1\" class=\"dataframe\">\n",
       "  <thead>\n",
       "    <tr style=\"text-align: right;\">\n",
       "      <th></th>\n",
       "      <th>class</th>\n",
       "      <th>conversation</th>\n",
       "    </tr>\n",
       "  </thead>\n",
       "  <tbody>\n",
       "    <tr>\n",
       "      <th>0</th>\n",
       "      <td>0</td>\n",
       "      <td>지금 너 스스로를 죽여달라고 애원하는 아닙니다. 죽을 거면 혼자 죽지 우리까지 사건...</td>\n",
       "    </tr>\n",
       "    <tr>\n",
       "      <th>1</th>\n",
       "      <td>0</td>\n",
       "      <td>지금 너 스스로를 죽여달라고 애원하는 것인가?\\n 아닙니다. 사건에 죽을 거면 혼자...</td>\n",
       "    </tr>\n",
       "    <tr>\n",
       "      <th>2</th>\n",
       "      <td>0</td>\n",
       "      <td>지금 스스로를 죽여달라고 애원하는 것인가?\\n 아닙니다. 죽을 거면 죽지 우리까지 ...</td>\n",
       "    </tr>\n",
       "    <tr>\n",
       "      <th>3</th>\n",
       "      <td>0</td>\n",
       "      <td>지금 죽여버리고 스스로를 죽여달라고 애원하는 것인가?\\n 아닙니다. 죄송합니다.\\n...</td>\n",
       "    </tr>\n",
       "    <tr>\n",
       "      <th>4</th>\n",
       "      <td>0</td>\n",
       "      <td>지금 너 스스로를 죽여달라고 애원하는 것인가?\\n 아닙니다. 죄송합니다.\\n 죽을 ...</td>\n",
       "    </tr>\n",
       "    <tr>\n",
       "      <th>...</th>\n",
       "      <td>...</td>\n",
       "      <td>...</td>\n",
       "    </tr>\n",
       "    <tr>\n",
       "      <th>19225</th>\n",
       "      <td>2</td>\n",
       "      <td>희정씨\\n네?\\n주말에 시간이 넘쳐나나봐\\n갑자기 왜그러세요?\\n손이 빤짝빤짝 네일...</td>\n",
       "    </tr>\n",
       "    <tr>\n",
       "      <th>19226</th>\n",
       "      <td>2</td>\n",
       "      <td>희정씨\\n네?\\n주말에 시간이 넘쳐나나봐\\n갑자기 왜그러세요?\\n손이 빤짝빤짝 네일...</td>\n",
       "    </tr>\n",
       "    <tr>\n",
       "      <th>19227</th>\n",
       "      <td>2</td>\n",
       "      <td>시간이 넘쳐나나봐\\n갑자기 왜그러세요?\\n손이 빤짝빤짝 네일했니?\\n네 여름이라 기...</td>\n",
       "    </tr>\n",
       "    <tr>\n",
       "      <th>19228</th>\n",
       "      <td>2</td>\n",
       "      <td>희정씨\\n네?\\n주말에 칠한건데.\\n희정씨가 시간이 왜그러세요?\\n손이 빤짝빤짝 네...</td>\n",
       "    </tr>\n",
       "    <tr>\n",
       "      <th>19229</th>\n",
       "      <td>2</td>\n",
       "      <td>희정씨\\n네?\\n주말에 시간이 넘쳐나나봐\\n갑자기 왜그러세요?\\n손이 빤짝빤짝 네일...</td>\n",
       "    </tr>\n",
       "  </tbody>\n",
       "</table>\n",
       "<p>19230 rows × 2 columns</p>\n",
       "</div>"
      ],
      "text/plain": [
       "      class                                       conversation\n",
       "0         0  지금 너 스스로를 죽여달라고 애원하는 아닙니다. 죽을 거면 혼자 죽지 우리까지 사건...\n",
       "1         0  지금 너 스스로를 죽여달라고 애원하는 것인가?\\n 아닙니다. 사건에 죽을 거면 혼자...\n",
       "2         0  지금 스스로를 죽여달라고 애원하는 것인가?\\n 아닙니다. 죽을 거면 죽지 우리까지 ...\n",
       "3         0  지금 죽여버리고 스스로를 죽여달라고 애원하는 것인가?\\n 아닙니다. 죄송합니다.\\n...\n",
       "4         0  지금 너 스스로를 죽여달라고 애원하는 것인가?\\n 아닙니다. 죄송합니다.\\n 죽을 ...\n",
       "...     ...                                                ...\n",
       "19225     2  희정씨\\n네?\\n주말에 시간이 넘쳐나나봐\\n갑자기 왜그러세요?\\n손이 빤짝빤짝 네일...\n",
       "19226     2  희정씨\\n네?\\n주말에 시간이 넘쳐나나봐\\n갑자기 왜그러세요?\\n손이 빤짝빤짝 네일...\n",
       "19227     2  시간이 넘쳐나나봐\\n갑자기 왜그러세요?\\n손이 빤짝빤짝 네일했니?\\n네 여름이라 기...\n",
       "19228     2  희정씨\\n네?\\n주말에 칠한건데.\\n희정씨가 시간이 왜그러세요?\\n손이 빤짝빤짝 네...\n",
       "19229     2  희정씨\\n네?\\n주말에 시간이 넘쳐나나봐\\n갑자기 왜그러세요?\\n손이 빤짝빤짝 네일...\n",
       "\n",
       "[19230 rows x 2 columns]"
      ]
     },
     "execution_count": 11,
     "metadata": {},
     "output_type": "execute_result"
    }
   ],
   "source": [
    "aug_data"
   ]
  },
  {
   "cell_type": "code",
   "execution_count": 12,
   "id": "40d3488a",
   "metadata": {},
   "outputs": [],
   "source": [
    "test_ = train_data.append(aug_data)\n",
    "test_['idx'] = [x for x in range(len(test_))]\n",
    "test_ = test_.reset_index(drop=True)"
   ]
  },
  {
   "cell_type": "code",
   "execution_count": 13,
   "id": "510444b3",
   "metadata": {},
   "outputs": [],
   "source": [
    "test_[test_.duplicated([\"class\", \"conversation\"])]\n",
    "test_[test_.duplicated([\"class\", \"conversation\"])]\n",
    "test_ = test_.drop_duplicates(subset=[\"class\", \"conversation\"])\n",
    "test_ = test_.drop(columns = 'idx')\n",
    "test_['class'] = test_['class'].astype('int64')\n"
   ]
  },
  {
   "cell_type": "code",
   "execution_count": 14,
   "id": "3ecc72c5",
   "metadata": {},
   "outputs": [
    {
     "data": {
      "text/html": [
       "<div>\n",
       "<style scoped>\n",
       "    .dataframe tbody tr th:only-of-type {\n",
       "        vertical-align: middle;\n",
       "    }\n",
       "\n",
       "    .dataframe tbody tr th {\n",
       "        vertical-align: top;\n",
       "    }\n",
       "\n",
       "    .dataframe thead th {\n",
       "        text-align: right;\n",
       "    }\n",
       "</style>\n",
       "<table border=\"1\" class=\"dataframe\">\n",
       "  <thead>\n",
       "    <tr style=\"text-align: right;\">\n",
       "      <th></th>\n",
       "      <th>class</th>\n",
       "      <th>conversation</th>\n",
       "    </tr>\n",
       "  </thead>\n",
       "  <tbody>\n",
       "    <tr>\n",
       "      <th>0</th>\n",
       "      <td>0</td>\n",
       "      <td>지금 너 스스로를 죽여달라고 애원하는 것인가?\\n 아닙니다. 죄송합니다.\\n 죽을 ...</td>\n",
       "    </tr>\n",
       "    <tr>\n",
       "      <th>1</th>\n",
       "      <td>0</td>\n",
       "      <td>길동경찰서입니다.\\n9시 40분 마트에 폭발물을 설치할거다.\\n네?\\n똑바로 들어 ...</td>\n",
       "    </tr>\n",
       "    <tr>\n",
       "      <th>2</th>\n",
       "      <td>3</td>\n",
       "      <td>너 되게 귀여운거 알지? 나보다 작은 남자는 첨봤어.\\n그만해. 니들 놀리는거 재미...</td>\n",
       "    </tr>\n",
       "    <tr>\n",
       "      <th>3</th>\n",
       "      <td>1</td>\n",
       "      <td>어이 거기\\n예??\\n너 말이야 너. 이리 오라고\\n무슨 일.\\n너 옷 좋아보인다?...</td>\n",
       "    </tr>\n",
       "    <tr>\n",
       "      <th>4</th>\n",
       "      <td>1</td>\n",
       "      <td>저기요 혹시 날이 너무 뜨겁잖아요? 저희 회사에서 이 선크림 파는데 한 번 손등에 ...</td>\n",
       "    </tr>\n",
       "    <tr>\n",
       "      <th>...</th>\n",
       "      <td>...</td>\n",
       "      <td>...</td>\n",
       "    </tr>\n",
       "    <tr>\n",
       "      <th>23069</th>\n",
       "      <td>1</td>\n",
       "      <td>누구맘대로 여기서 장사하래?\\n이게 무슨일입니까?\\n남의 구역에서 장사하려면 자릿세...</td>\n",
       "    </tr>\n",
       "    <tr>\n",
       "      <th>23071</th>\n",
       "      <td>2</td>\n",
       "      <td>희정씨\\n네?\\n주말에 시간이 넘쳐나나봐\\n갑자기 왜그러세요?\\n손이 빤짝빤짝 네일...</td>\n",
       "    </tr>\n",
       "    <tr>\n",
       "      <th>23072</th>\n",
       "      <td>2</td>\n",
       "      <td>희정씨\\n네?\\n주말에 시간이 넘쳐나나봐\\n갑자기 왜그러세요?\\n손이 빤짝빤짝 네일...</td>\n",
       "    </tr>\n",
       "    <tr>\n",
       "      <th>23073</th>\n",
       "      <td>2</td>\n",
       "      <td>시간이 넘쳐나나봐\\n갑자기 왜그러세요?\\n손이 빤짝빤짝 네일했니?\\n네 여름이라 기...</td>\n",
       "    </tr>\n",
       "    <tr>\n",
       "      <th>23074</th>\n",
       "      <td>2</td>\n",
       "      <td>희정씨\\n네?\\n주말에 칠한건데.\\n희정씨가 시간이 왜그러세요?\\n손이 빤짝빤짝 네...</td>\n",
       "    </tr>\n",
       "  </tbody>\n",
       "</table>\n",
       "<p>18952 rows × 2 columns</p>\n",
       "</div>"
      ],
      "text/plain": [
       "       class                                       conversation\n",
       "0          0  지금 너 스스로를 죽여달라고 애원하는 것인가?\\n 아닙니다. 죄송합니다.\\n 죽을 ...\n",
       "1          0  길동경찰서입니다.\\n9시 40분 마트에 폭발물을 설치할거다.\\n네?\\n똑바로 들어 ...\n",
       "2          3  너 되게 귀여운거 알지? 나보다 작은 남자는 첨봤어.\\n그만해. 니들 놀리는거 재미...\n",
       "3          1  어이 거기\\n예??\\n너 말이야 너. 이리 오라고\\n무슨 일.\\n너 옷 좋아보인다?...\n",
       "4          1  저기요 혹시 날이 너무 뜨겁잖아요? 저희 회사에서 이 선크림 파는데 한 번 손등에 ...\n",
       "...      ...                                                ...\n",
       "23069      1  누구맘대로 여기서 장사하래?\\n이게 무슨일입니까?\\n남의 구역에서 장사하려면 자릿세...\n",
       "23071      2  희정씨\\n네?\\n주말에 시간이 넘쳐나나봐\\n갑자기 왜그러세요?\\n손이 빤짝빤짝 네일...\n",
       "23072      2  희정씨\\n네?\\n주말에 시간이 넘쳐나나봐\\n갑자기 왜그러세요?\\n손이 빤짝빤짝 네일...\n",
       "23073      2  시간이 넘쳐나나봐\\n갑자기 왜그러세요?\\n손이 빤짝빤짝 네일했니?\\n네 여름이라 기...\n",
       "23074      2  희정씨\\n네?\\n주말에 칠한건데.\\n희정씨가 시간이 왜그러세요?\\n손이 빤짝빤짝 네...\n",
       "\n",
       "[18952 rows x 2 columns]"
      ]
     },
     "execution_count": 14,
     "metadata": {},
     "output_type": "execute_result"
    }
   ],
   "source": [
    "test_"
   ]
  },
  {
   "cell_type": "code",
   "execution_count": 15,
   "id": "82fb70fa",
   "metadata": {},
   "outputs": [],
   "source": [
    "# 불용어 제거\n",
    "import re\n",
    "\n",
    "def preprocess_sentence(sentence):\n",
    "    sentence = sentence.lower().strip()\n",
    "\n",
    "    sentence = re.sub(r\"([?.!,])\", r\" \\1 \", sentence)\n",
    "    sentence = re.sub(r'[\" \"]+', \" \", sentence)\n",
    "    sentence = re.sub(r\"[^a-zA-Zㄱ-ㅎ가-힣ㅏ-ㅣ?.!,]+\", \" \", sentence)\n",
    "    \n",
    "    sentence = sentence.strip()\n",
    "\n",
    "    return sentence"
   ]
  },
  {
   "cell_type": "code",
   "execution_count": 16,
   "id": "9ca29f04",
   "metadata": {},
   "outputs": [],
   "source": [
    "# tokenizing\n",
    "import sentencepiece as spm\n",
    "\n",
    "def generate_spm_tokenizer(corpus,\n",
    "                        vocab_size,\n",
    "                        lang=\"ko\",\n",
    "                        pad_id=0,\n",
    "                        bos_id=1,\n",
    "                        eos_id=2,\n",
    "                        unk_id=3):\n",
    "    # sentencepiece train을 위해 해당 corpus를 별도 파일로 만듬.\n",
    "    temp_file = f\"{lang}_corpus.txt\"\n",
    "    with open(temp_file, \"w\") as f:\n",
    "        for sen in corpus:\n",
    "            f.write(sen)\n",
    "            f.write(\"\\n\")\n",
    "    \n",
    "    #  sentencepiece train\n",
    "    model_name = f\"{lang}_spm\"\n",
    "    spm.SentencePieceTrainer.train(input=temp_file, \n",
    "                                   model_prefix=model_name, \n",
    "                                   vocab_size=vocab_size, \n",
    "                                   pad_id=pad_id, \n",
    "                                   bos_id=bos_id, \n",
    "                                   eos_id=eos_id, \n",
    "                                   unk_id=unk_id)\n",
    "    \n",
    "    #  sentencepiece load\n",
    "    tokenizer = spm.SentencePieceProcessor()\n",
    "    tokenizer.Load(model_name + \".model\")\n",
    "    \n",
    "    return tokenizer"
   ]
  },
  {
   "cell_type": "code",
   "execution_count": 17,
   "id": "bdc65fdb",
   "metadata": {},
   "outputs": [],
   "source": [
    "corpus = test_['conversation']"
   ]
  },
  {
   "cell_type": "code",
   "execution_count": 18,
   "id": "525122b1",
   "metadata": {},
   "outputs": [],
   "source": [
    "corpus = [preprocess_sentence(s) for s in corpus]"
   ]
  },
  {
   "cell_type": "code",
   "execution_count": 19,
   "id": "1fe343a5",
   "metadata": {},
   "outputs": [
    {
     "data": {
      "text/plain": [
       "'지금 너 스스로를 죽여달라고 애원하는 것인가 ? 아닙니다 . 죄송합니다 . 죽을 거면 혼자 죽지 우리까지 사건에 휘말리게 해 ? 진짜 죽여버리고 싶게 . 정말 잘못했습니다 . 너가 선택해 . 너가 죽을래 네 가족을 죽여줄까 . 죄송합니다 . 정말 잘못했습니다 . 너에게는 선택권이 없어 . 선택 못한다면 너와 네 가족까지 모조리 죽여버릴거야 . 선택 못하겠습니다 . 한번만 도와주세요 . 그냥 다 죽여버려야겠군 . 이의 없지 ? 제발 도와주세요 .'"
      ]
     },
     "execution_count": 19,
     "metadata": {},
     "output_type": "execute_result"
    }
   ],
   "source": [
    "corpus[0]"
   ]
  },
  {
   "cell_type": "code",
   "execution_count": 20,
   "id": "2d373b72",
   "metadata": {},
   "outputs": [
    {
     "name": "stdout",
     "output_type": "stream",
     "text": [
      "909\n",
      "8\n"
     ]
    }
   ],
   "source": [
    "len_list = list(map(lambda s: len(s), corpus))\n",
    "print(max(len_list))\n",
    "print(min(len_list))"
   ]
  },
  {
   "cell_type": "code",
   "execution_count": 21,
   "id": "b41cf9f1",
   "metadata": {},
   "outputs": [],
   "source": [
    "test_['conversation'] = [preprocess_sentence(s) for s in corpus]"
   ]
  },
  {
   "cell_type": "code",
   "execution_count": 22,
   "id": "df7903d6",
   "metadata": {},
   "outputs": [
    {
     "data": {
      "text/html": [
       "<div>\n",
       "<style scoped>\n",
       "    .dataframe tbody tr th:only-of-type {\n",
       "        vertical-align: middle;\n",
       "    }\n",
       "\n",
       "    .dataframe tbody tr th {\n",
       "        vertical-align: top;\n",
       "    }\n",
       "\n",
       "    .dataframe thead th {\n",
       "        text-align: right;\n",
       "    }\n",
       "</style>\n",
       "<table border=\"1\" class=\"dataframe\">\n",
       "  <thead>\n",
       "    <tr style=\"text-align: right;\">\n",
       "      <th></th>\n",
       "      <th>class</th>\n",
       "      <th>conversation</th>\n",
       "    </tr>\n",
       "  </thead>\n",
       "  <tbody>\n",
       "    <tr>\n",
       "      <th>0</th>\n",
       "      <td>0</td>\n",
       "      <td>지금 너 스스로를 죽여달라고 애원하는 것인가 ? 아닙니다 . 죄송합니다 . 죽을 거...</td>\n",
       "    </tr>\n",
       "    <tr>\n",
       "      <th>1</th>\n",
       "      <td>0</td>\n",
       "      <td>길동경찰서입니다 . 시 분 마트에 폭발물을 설치할거다 . 네 ? 똑바로 들어 한번만...</td>\n",
       "    </tr>\n",
       "    <tr>\n",
       "      <th>2</th>\n",
       "      <td>3</td>\n",
       "      <td>너 되게 귀여운거 알지 ? 나보다 작은 남자는 첨봤어 . 그만해 . 니들 놀리는거 ...</td>\n",
       "    </tr>\n",
       "    <tr>\n",
       "      <th>3</th>\n",
       "      <td>1</td>\n",
       "      <td>어이 거기 예 ? ? 너 말이야 너 . 이리 오라고 무슨 일 . 너 옷 좋아보인다 ...</td>\n",
       "    </tr>\n",
       "    <tr>\n",
       "      <th>4</th>\n",
       "      <td>1</td>\n",
       "      <td>저기요 혹시 날이 너무 뜨겁잖아요 ? 저희 회사에서 이 선크림 파는데 한 번 손등에...</td>\n",
       "    </tr>\n",
       "    <tr>\n",
       "      <th>...</th>\n",
       "      <td>...</td>\n",
       "      <td>...</td>\n",
       "    </tr>\n",
       "    <tr>\n",
       "      <th>23069</th>\n",
       "      <td>1</td>\n",
       "      <td>누구맘대로 여기서 장사하래 ? 이게 무슨일입니까 ? 남의 구역에서 장사하려면 자릿세...</td>\n",
       "    </tr>\n",
       "    <tr>\n",
       "      <th>23071</th>\n",
       "      <td>2</td>\n",
       "      <td>희정씨 네 ? 주말에 시간이 넘쳐나나봐 갑자기 왜그러세요 ? 손이 빤짝빤짝 네일했니...</td>\n",
       "    </tr>\n",
       "    <tr>\n",
       "      <th>23072</th>\n",
       "      <td>2</td>\n",
       "      <td>희정씨 네 ? 주말에 시간이 넘쳐나나봐 갑자기 왜그러세요 ? 손이 빤짝빤짝 네일했니...</td>\n",
       "    </tr>\n",
       "    <tr>\n",
       "      <th>23073</th>\n",
       "      <td>2</td>\n",
       "      <td>시간이 넘쳐나나봐 갑자기 왜그러세요 ? 손이 빤짝빤짝 네일했니 ? 네 여름이라 기분...</td>\n",
       "    </tr>\n",
       "    <tr>\n",
       "      <th>23074</th>\n",
       "      <td>2</td>\n",
       "      <td>희정씨 네 ? 주말에 칠한건데 . 희정씨가 시간이 왜그러세요 ? 손이 빤짝빤짝 네일...</td>\n",
       "    </tr>\n",
       "  </tbody>\n",
       "</table>\n",
       "<p>18952 rows × 2 columns</p>\n",
       "</div>"
      ],
      "text/plain": [
       "       class                                       conversation\n",
       "0          0  지금 너 스스로를 죽여달라고 애원하는 것인가 ? 아닙니다 . 죄송합니다 . 죽을 거...\n",
       "1          0  길동경찰서입니다 . 시 분 마트에 폭발물을 설치할거다 . 네 ? 똑바로 들어 한번만...\n",
       "2          3  너 되게 귀여운거 알지 ? 나보다 작은 남자는 첨봤어 . 그만해 . 니들 놀리는거 ...\n",
       "3          1  어이 거기 예 ? ? 너 말이야 너 . 이리 오라고 무슨 일 . 너 옷 좋아보인다 ...\n",
       "4          1  저기요 혹시 날이 너무 뜨겁잖아요 ? 저희 회사에서 이 선크림 파는데 한 번 손등에...\n",
       "...      ...                                                ...\n",
       "23069      1  누구맘대로 여기서 장사하래 ? 이게 무슨일입니까 ? 남의 구역에서 장사하려면 자릿세...\n",
       "23071      2  희정씨 네 ? 주말에 시간이 넘쳐나나봐 갑자기 왜그러세요 ? 손이 빤짝빤짝 네일했니...\n",
       "23072      2  희정씨 네 ? 주말에 시간이 넘쳐나나봐 갑자기 왜그러세요 ? 손이 빤짝빤짝 네일했니...\n",
       "23073      2  시간이 넘쳐나나봐 갑자기 왜그러세요 ? 손이 빤짝빤짝 네일했니 ? 네 여름이라 기분...\n",
       "23074      2  희정씨 네 ? 주말에 칠한건데 . 희정씨가 시간이 왜그러세요 ? 손이 빤짝빤짝 네일...\n",
       "\n",
       "[18952 rows x 2 columns]"
      ]
     },
     "execution_count": 22,
     "metadata": {},
     "output_type": "execute_result"
    }
   ],
   "source": [
    "test_.head()\n",
    "test_"
   ]
  },
  {
   "cell_type": "code",
   "execution_count": 23,
   "id": "423ef3c4",
   "metadata": {},
   "outputs": [
    {
     "name": "stderr",
     "output_type": "stream",
     "text": [
      "sentencepiece_trainer.cc(77) LOG(INFO) Starts training with : \n",
      "trainer_spec {\n",
      "  input: ko_corpus.txt\n",
      "  input_format: \n",
      "  model_prefix: ko_spm\n",
      "  model_type: UNIGRAM\n",
      "  vocab_size: 10000\n",
      "  self_test_sample_size: 0\n",
      "  character_coverage: 0.9995\n",
      "  input_sentence_size: 0\n",
      "  shuffle_input_sentence: 1\n",
      "  seed_sentencepiece_size: 1000000\n",
      "  shrinking_factor: 0.75\n",
      "  max_sentence_length: 4192\n",
      "  num_threads: 16\n",
      "  num_sub_iterations: 2\n",
      "  max_sentencepiece_length: 16\n",
      "  split_by_unicode_script: 1\n",
      "  split_by_number: 1\n",
      "  split_by_whitespace: 1\n",
      "  split_digits: 0\n",
      "  treat_whitespace_as_suffix: 0\n",
      "  allow_whitespace_only_pieces: 0\n",
      "  required_chars: \n",
      "  byte_fallback: 0\n",
      "  vocabulary_output_piece_score: 1\n",
      "  train_extremely_large_corpus: 0\n",
      "  hard_vocab_limit: 1\n",
      "  use_all_vocab: 0\n",
      "  unk_id: 3\n",
      "  bos_id: 1\n",
      "  eos_id: 2\n",
      "  pad_id: 0\n",
      "  unk_piece: <unk>\n",
      "  bos_piece: <s>\n",
      "  eos_piece: </s>\n",
      "  pad_piece: <pad>\n",
      "  unk_surface:  ⁇ \n",
      "}\n",
      "normalizer_spec {\n",
      "  name: nmt_nfkc\n",
      "  add_dummy_prefix: 1\n",
      "  remove_extra_whitespaces: 1\n",
      "  escape_whitespaces: 1\n",
      "  normalization_rule_tsv: \n",
      "}\n",
      "denormalizer_spec {}\n",
      "trainer_interface.cc(329) LOG(INFO) SentenceIterator is not specified. Using MultiFileSentenceIterator.\n",
      "trainer_interface.cc(178) LOG(INFO) Loading corpus: ko_corpus.txt\n",
      "trainer_interface.cc(385) LOG(INFO) Loaded all 18952 sentences\n",
      "trainer_interface.cc(400) LOG(INFO) Adding meta_piece: <pad>\n",
      "trainer_interface.cc(400) LOG(INFO) Adding meta_piece: <s>\n",
      "trainer_interface.cc(400) LOG(INFO) Adding meta_piece: </s>\n",
      "trainer_interface.cc(400) LOG(INFO) Adding meta_piece: <unk>\n",
      "trainer_interface.cc(405) LOG(INFO) Normalizing sentences...\n",
      "trainer_interface.cc(466) LOG(INFO) all chars count=4357687\n",
      "trainer_interface.cc(477) LOG(INFO) Done: 99.9501% characters are covered.\n",
      "trainer_interface.cc(487) LOG(INFO) Alphabet size=1161\n",
      "trainer_interface.cc(488) LOG(INFO) Final character coverage=0.999501\n",
      "trainer_interface.cc(520) LOG(INFO) Done! preprocessed 18952 sentences.\n",
      "unigram_model_trainer.cc(139) LOG(INFO) Making suffix array...\n",
      "unigram_model_trainer.cc(143) LOG(INFO) Extracting frequent sub strings...\n",
      "unigram_model_trainer.cc(194) LOG(INFO) Initialized 43157 seed sentencepieces\n",
      "trainer_interface.cc(526) LOG(INFO) Tokenizing input sentences with whitespace: 18952\n",
      "trainer_interface.cc(537) LOG(INFO) Done! 50916\n",
      "unigram_model_trainer.cc(489) LOG(INFO) Using 50916 sentences for EM training\n",
      "unigram_model_trainer.cc(505) LOG(INFO) EM sub_iter=0 size=32439 obj=10.461 num_tokens=99761 num_tokens/piece=3.07534\n",
      "unigram_model_trainer.cc(505) LOG(INFO) EM sub_iter=1 size=23734 obj=9.67256 num_tokens=99930 num_tokens/piece=4.21042\n",
      "unigram_model_trainer.cc(505) LOG(INFO) EM sub_iter=0 size=17799 obj=9.71146 num_tokens=103728 num_tokens/piece=5.82774\n",
      "unigram_model_trainer.cc(505) LOG(INFO) EM sub_iter=1 size=17797 obj=9.68066 num_tokens=103753 num_tokens/piece=5.8298\n",
      "unigram_model_trainer.cc(505) LOG(INFO) EM sub_iter=0 size=13347 obj=9.89861 num_tokens=110693 num_tokens/piece=8.29347\n",
      "unigram_model_trainer.cc(505) LOG(INFO) EM sub_iter=1 size=13347 obj=9.85752 num_tokens=110698 num_tokens/piece=8.29385\n",
      "unigram_model_trainer.cc(505) LOG(INFO) EM sub_iter=0 size=11000 obj=10.0181 num_tokens=115355 num_tokens/piece=10.4868\n",
      "unigram_model_trainer.cc(505) LOG(INFO) EM sub_iter=1 size=11000 obj=9.99061 num_tokens=115357 num_tokens/piece=10.487\n",
      "trainer_interface.cc(615) LOG(INFO) Saving model: ko_spm.model\n",
      "trainer_interface.cc(626) LOG(INFO) Saving vocabs: ko_spm.vocab\n"
     ]
    },
    {
     "data": {
      "text/plain": [
       "<AxesSubplot:ylabel='Count'>"
      ]
     },
     "execution_count": 23,
     "metadata": {},
     "output_type": "execute_result"
    },
    {
     "data": {
      "image/png": "[encoded data removed]",
      "text/plain": [
       "<Figure size 432x288 with 1 Axes>"
      ]
     },
     "metadata": {
      "needs_background": "light"
     },
     "output_type": "display_data"
    }
   ],
   "source": [
    "vocab_size = 10000\n",
    "\n",
    "spm_tokenizer = generate_spm_tokenizer(corpus, vocab_size)\n",
    "tokenized_corpus = []\n",
    "\n",
    "# 토큰의 길이가 50 이하인 문장만 남깁니다. \n",
    "for idx in range(len(corpus)):\n",
    "    tokenized_corpus.append(spm_tokenizer.EncodeAsIds(corpus[idx]))\n",
    "    \n",
    "len_tokenized = [map(lambda s: len(s), tokenized_corpus)]\n",
    "import seaborn as sns\n",
    "sns.histplot(len_tokenized)"
   ]
  },
  {
   "cell_type": "code",
   "execution_count": 24,
   "id": "e764f523",
   "metadata": {},
   "outputs": [],
   "source": [
    "import matplotlib.pyplot as plt\n",
    "%matplotlib inline"
   ]
  },
  {
   "cell_type": "markdown",
   "id": "b287874a",
   "metadata": {},
   "source": [
    "### Data split"
   ]
  },
  {
   "cell_type": "code",
   "execution_count": 25,
   "id": "82637ff0",
   "metadata": {},
   "outputs": [
    {
     "name": "stdout",
     "output_type": "stream",
     "text": [
      "1895\n",
      "1895\n",
      "17057\n",
      "17057\n"
     ]
    }
   ],
   "source": [
    "from sklearn.model_selection import train_test_split\n",
    "\n",
    "max_len = 1000\n",
    "\n",
    "#X_train, X_rem, y_train, y_rem = train_test_split(tokenized_corpus, train_data['class'], train_size=0.8, random_state=42)\n",
    "#X_val, X_test, y_val, y_test = train_test_split(X_rem, y_rem, test_size=0.5)\n",
    "\n",
    "X_train, X_val, y_train, y_val = train_test_split(tokenized_corpus, test_['class'], train_size=0.1, random_state=42)\n",
    "\n",
    "\n",
    "print(len(X_train)), print(len(y_train))\n",
    "print(len(X_val)), print(len(y_val))\n",
    "#print(len(X_test)), print(len(y_test))\n",
    "\n",
    "X_train = tf.keras.preprocessing.sequence.pad_sequences(X_train, padding='pre', maxlen=max_len)\n",
    "X_val = tf.keras.preprocessing.sequence.pad_sequences(X_val, padding='pre', maxlen=max_len)\n",
    "#X_test = tf.keras.preprocessing.sequence.pad_sequences(X_test, padding='pre', maxlen=max_len)"
   ]
  },
  {
   "cell_type": "code",
   "execution_count": 26,
   "id": "326098ab",
   "metadata": {},
   "outputs": [
    {
     "data": {
      "text/plain": [
       "12829    0\n",
       "8841     0\n",
       "5117     0\n",
       "7286     3\n",
       "4661     3\n",
       "Name: class, dtype: int64"
      ]
     },
     "execution_count": 26,
     "metadata": {},
     "output_type": "execute_result"
    }
   ],
   "source": [
    "type(X_train)\n",
    "type(y_train)\n",
    "y_train.head()"
   ]
  },
  {
   "cell_type": "markdown",
   "id": "fd05af42",
   "metadata": {},
   "source": [
    "# 모델 적용"
   ]
  },
  {
   "cell_type": "code",
   "execution_count": 33,
   "id": "fc9d80cd",
   "metadata": {},
   "outputs": [
    {
     "name": "stdout",
     "output_type": "stream",
     "text": [
      "Model: \"model_4\"\n",
      "_________________________________________________________________\n",
      "Layer (type)                 Output Shape              Param #   \n",
      "=================================================================\n",
      "input_5 (InputLayer)         [(None, None)]            0         \n",
      "_________________________________________________________________\n",
      "embedding_4 (Embedding)      (None, None, 128)         1280000   \n",
      "_________________________________________________________________\n",
      "simple_rnn_1 (SimpleRNN)     (None, 128)               32896     \n",
      "_________________________________________________________________\n",
      "dense_8 (Dense)              (None, 256)               33024     \n",
      "_________________________________________________________________\n",
      "dense_9 (Dense)              (None, 4)                 1028      \n",
      "=================================================================\n",
      "Total params: 1,346,948\n",
      "Trainable params: 1,346,948\n",
      "Non-trainable params: 0\n",
      "_________________________________________________________________\n"
     ]
    }
   ],
   "source": [
    "# simplernn\n",
    "\n",
    "inputs = keras.layers.Input(shape=(None,))\n",
    "x = keras.layers.Embedding(vocab_size, 128)(inputs)\n",
    "#x = keras.layers.LSTM(256, return_sequences=True)(x)\n",
    "\n",
    "x = keras.layers.SimpleRNN(128)(x)\n",
    "#x = keras.layers.LSTM(128, dropout=0.2, recurrent_dropout=0.2)(x)\n",
    "#x = keras.layers.GRU(128, dropout=0.2, recurrent_dropout=0.2)(x)\n",
    "#x = keras.layers.Bidirectional(keras.layers.LSTM(128))(x)\n",
    "\n",
    "x = keras.layers.Dense(256, activation=\"relu\")(x)\n",
    "x = keras.layers.Dense(4, activation=\"softmax\")(x)\n",
    "\n",
    "model1 = keras.Model(inputs, x)\n",
    "model1.summary()"
   ]
  },
  {
   "cell_type": "code",
   "execution_count": 34,
   "id": "d8ba1ffa",
   "metadata": {},
   "outputs": [
    {
     "name": "stdout",
     "output_type": "stream",
     "text": [
      "WARNING:tensorflow:Layer lstm_2 will not use cuDNN kernels since it doesn't meet the criteria. It will use a generic GPU kernel as fallback when running on GPU.\n",
      "Model: \"model_5\"\n",
      "_________________________________________________________________\n",
      "Layer (type)                 Output Shape              Param #   \n",
      "=================================================================\n",
      "input_6 (InputLayer)         [(None, None)]            0         \n",
      "_________________________________________________________________\n",
      "embedding_5 (Embedding)      (None, None, 128)         1280000   \n",
      "_________________________________________________________________\n",
      "lstm_2 (LSTM)                (None, 128)               131584    \n",
      "_________________________________________________________________\n",
      "dense_10 (Dense)             (None, 256)               33024     \n",
      "_________________________________________________________________\n",
      "dense_11 (Dense)             (None, 4)                 1028      \n",
      "=================================================================\n",
      "Total params: 1,445,636\n",
      "Trainable params: 1,445,636\n",
      "Non-trainable params: 0\n",
      "_________________________________________________________________\n"
     ]
    }
   ],
   "source": [
    "# lstm\n",
    "inputs = keras.layers.Input(shape=(None,))\n",
    "x = keras.layers.Embedding(vocab_size, 128)(inputs)\n",
    "#x = keras.layers.LSTM(256, return_sequences=True)(x)\n",
    "\n",
    "#x = keras.layers.SimpleRNN(128)(x)\n",
    "x = keras.layers.LSTM(128, dropout=0.2, recurrent_dropout=0.2)(x)\n",
    "#x = keras.layers.GRU(128, dropout=0.2, recurrent_dropout=0.2)(x)\n",
    "#x = keras.layers.Bidirectional(keras.layers.LSTM(128))(x)\n",
    "\n",
    "x = keras.layers.Dense(256, activation=\"relu\")(x)\n",
    "x = keras.layers.Dense(4, activation=\"softmax\")(x)\n",
    "\n",
    "model2 = keras.Model(inputs, x)\n",
    "model2.summary()"
   ]
  },
  {
   "cell_type": "code",
   "execution_count": 35,
   "id": "afc349b3",
   "metadata": {},
   "outputs": [
    {
     "name": "stdout",
     "output_type": "stream",
     "text": [
      "Model: \"model_6\"\n",
      "_________________________________________________________________\n",
      "Layer (type)                 Output Shape              Param #   \n",
      "=================================================================\n",
      "input_7 (InputLayer)         [(None, None)]            0         \n",
      "_________________________________________________________________\n",
      "embedding_6 (Embedding)      (None, None, 128)         1280000   \n",
      "_________________________________________________________________\n",
      "bidirectional_1 (Bidirection (None, 256)               263168    \n",
      "_________________________________________________________________\n",
      "dense_12 (Dense)             (None, 256)               65792     \n",
      "_________________________________________________________________\n",
      "dense_13 (Dense)             (None, 4)                 1028      \n",
      "=================================================================\n",
      "Total params: 1,609,988\n",
      "Trainable params: 1,609,988\n",
      "Non-trainable params: 0\n",
      "_________________________________________________________________\n"
     ]
    }
   ],
   "source": [
    "# bi-lstm\n",
    "inputs = keras.layers.Input(shape=(None,))\n",
    "x = keras.layers.Embedding(vocab_size, 128)(inputs)\n",
    "#x = keras.layers.LSTM(256, return_sequences=True)(x)\n",
    "\n",
    "#x = keras.layers.SimpleRNN(128)(x)\n",
    "#x = keras.layers.LSTM(128, dropout=0.2, recurrent_dropout=0.2)(x)\n",
    "x = keras.layers.Bidirectional(keras.layers.LSTM(128))(x)\n",
    "#x = keras.layers.GRU(128, dropout=0.2, recurrent_dropout=0.2)(x)\n",
    "\n",
    "x = keras.layers.Dense(256, activation=\"relu\")(x)\n",
    "x = keras.layers.Dense(4, activation=\"softmax\")(x)\n",
    "\n",
    "model3 = keras.Model(inputs, x)\n",
    "model3.summary()"
   ]
  },
  {
   "cell_type": "code",
   "execution_count": 36,
   "id": "47143376",
   "metadata": {},
   "outputs": [
    {
     "name": "stdout",
     "output_type": "stream",
     "text": [
      "WARNING:tensorflow:Layer gru_1 will not use cuDNN kernels since it doesn't meet the criteria. It will use a generic GPU kernel as fallback when running on GPU.\n",
      "Model: \"model_7\"\n",
      "_________________________________________________________________\n",
      "Layer (type)                 Output Shape              Param #   \n",
      "=================================================================\n",
      "input_8 (InputLayer)         [(None, None)]            0         \n",
      "_________________________________________________________________\n",
      "embedding_7 (Embedding)      (None, None, 128)         1280000   \n",
      "_________________________________________________________________\n",
      "gru_1 (GRU)                  (None, 128)               99072     \n",
      "_________________________________________________________________\n",
      "dense_14 (Dense)             (None, 256)               33024     \n",
      "_________________________________________________________________\n",
      "dense_15 (Dense)             (None, 4)                 1028      \n",
      "=================================================================\n",
      "Total params: 1,413,124\n",
      "Trainable params: 1,413,124\n",
      "Non-trainable params: 0\n",
      "_________________________________________________________________\n"
     ]
    }
   ],
   "source": [
    "# gru\n",
    "inputs = keras.layers.Input(shape=(None,))\n",
    "x = keras.layers.Embedding(vocab_size, 128)(inputs)\n",
    "#x = keras.layers.LSTM(256, return_sequences=True)(x)\n",
    "\n",
    "#x = keras.layers.SimpleRNN(128)(x)\n",
    "#x = keras.layers.LSTM(128, dropout=0.2, recurrent_dropout=0.2)(x)\n",
    "x = keras.layers.GRU(128, dropout=0.2, recurrent_dropout=0.2)(x)\n",
    "#x = keras.layers.Bidirectional(keras.layers.LSTM(128))(x)\n",
    "\n",
    "x = keras.layers.Dense(256, activation=\"relu\")(x)\n",
    "x = keras.layers.Dense(4, activation=\"softmax\")(x)\n",
    "\n",
    "model4 = keras.Model(inputs, x)\n",
    "model4.summary()"
   ]
  },
  {
   "cell_type": "code",
   "execution_count": 37,
   "id": "beabfe51",
   "metadata": {},
   "outputs": [],
   "source": [
    "model1.compile(optimizer='adam', \n",
    "              loss='sparse_categorical_crossentropy', \n",
    "              metrics=['accuracy'])\n",
    "model2.compile(optimizer='adam', \n",
    "              loss='sparse_categorical_crossentropy', \n",
    "              metrics=['accuracy'])\n",
    "model3.compile(optimizer='adam', \n",
    "              loss='sparse_categorical_crossentropy', \n",
    "              metrics=['accuracy'])\n",
    "model4.compile(optimizer='adam', \n",
    "              loss='sparse_categorical_crossentropy', \n",
    "              metrics=['accuracy'])"
   ]
  },
  {
   "cell_type": "code",
   "execution_count": 38,
   "id": "05080178",
   "metadata": {
    "scrolled": false
   },
   "outputs": [
    {
     "name": "stdout",
     "output_type": "stream",
     "text": [
      "Epoch 1/10\n",
      "8/8 [==============================] - 14s 2s/step - loss: 1.3840 - accuracy: 0.2644 - val_loss: 1.3709 - val_accuracy: 0.3290\n",
      "Epoch 2/10\n",
      "8/8 [==============================] - 13s 2s/step - loss: 1.2185 - accuracy: 0.6923 - val_loss: 1.3274 - val_accuracy: 0.3875\n",
      "Epoch 3/10\n",
      "8/8 [==============================] - 13s 2s/step - loss: 0.9285 - accuracy: 0.8992 - val_loss: 1.2141 - val_accuracy: 0.4766\n",
      "Epoch 4/10\n",
      "8/8 [==============================] - 13s 2s/step - loss: 0.4428 - accuracy: 0.9599 - val_loss: 1.3146 - val_accuracy: 0.4049\n",
      "Epoch 5/10\n",
      "8/8 [==============================] - 13s 2s/step - loss: 0.0955 - accuracy: 0.9989 - val_loss: 1.4814 - val_accuracy: 0.4005\n",
      "Epoch 6/10\n",
      "8/8 [==============================] - 13s 2s/step - loss: 0.0116 - accuracy: 1.0000 - val_loss: 1.7402 - val_accuracy: 0.3991\n",
      "Epoch 7/10\n",
      "8/8 [==============================] - 13s 2s/step - loss: 0.0024 - accuracy: 1.0000 - val_loss: 1.8615 - val_accuracy: 0.4008\n",
      "Epoch 8/10\n",
      "8/8 [==============================] - 13s 2s/step - loss: 9.1513e-04 - accuracy: 1.0000 - val_loss: 1.8625 - val_accuracy: 0.4080\n",
      "Epoch 9/10\n",
      "8/8 [==============================] - 13s 2s/step - loss: 6.1858e-04 - accuracy: 1.0000 - val_loss: 1.8822 - val_accuracy: 0.4090\n",
      "Epoch 10/10\n",
      "8/8 [==============================] - 13s 2s/step - loss: 4.3040e-04 - accuracy: 1.0000 - val_loss: 1.9037 - val_accuracy: 0.4083\n"
     ]
    }
   ],
   "source": [
    "hist1 = model1.fit(X_train, \n",
    "                 y_train, \n",
    "                 validation_data=(X_val, y_val), \n",
    "                 batch_size=256, \n",
    "                 epochs = 10,)"
   ]
  },
  {
   "cell_type": "code",
   "execution_count": 39,
   "id": "666bddaa",
   "metadata": {},
   "outputs": [
    {
     "name": "stdout",
     "output_type": "stream",
     "text": [
      "Epoch 1/10\n",
      "8/8 [==============================] - 51s 6s/step - loss: 1.3844 - accuracy: 0.2807 - val_loss: 1.3782 - val_accuracy: 0.2943\n",
      "Epoch 2/10\n",
      "8/8 [==============================] - 49s 6s/step - loss: 1.3573 - accuracy: 0.3894 - val_loss: 1.3135 - val_accuracy: 0.3782\n",
      "Epoch 3/10\n",
      "8/8 [==============================] - 49s 6s/step - loss: 1.2035 - accuracy: 0.5931 - val_loss: 1.0901 - val_accuracy: 0.6529\n",
      "Epoch 4/10\n",
      "8/8 [==============================] - 49s 6s/step - loss: 0.9125 - accuracy: 0.7193 - val_loss: 1.4221 - val_accuracy: 0.3997\n",
      "Epoch 5/10\n",
      "8/8 [==============================] - 49s 6s/step - loss: 0.8699 - accuracy: 0.6433 - val_loss: 0.9656 - val_accuracy: 0.6182\n",
      "Epoch 6/10\n",
      "8/8 [==============================] - 49s 6s/step - loss: 0.6999 - accuracy: 0.7794 - val_loss: 0.8089 - val_accuracy: 0.6983\n",
      "Epoch 7/10\n",
      "8/8 [==============================] - 49s 6s/step - loss: 0.4511 - accuracy: 0.9140 - val_loss: 0.6456 - val_accuracy: 0.7697\n",
      "Epoch 8/10\n",
      "8/8 [==============================] - 49s 6s/step - loss: 0.2119 - accuracy: 0.9646 - val_loss: 0.5440 - val_accuracy: 0.7995\n",
      "Epoch 9/10\n",
      "8/8 [==============================] - 49s 6s/step - loss: 0.0663 - accuracy: 0.9852 - val_loss: 0.5675 - val_accuracy: 0.8220\n",
      "Epoch 10/10\n",
      "8/8 [==============================] - 49s 6s/step - loss: 0.0165 - accuracy: 0.9958 - val_loss: 0.5971 - val_accuracy: 0.8294\n"
     ]
    }
   ],
   "source": [
    "hist2 = model2.fit(X_train, \n",
    "                 y_train, \n",
    "                 validation_data=(X_val, y_val), \n",
    "                 batch_size=256, \n",
    "                 epochs = 10,)\n"
   ]
  },
  {
   "cell_type": "code",
   "execution_count": 40,
   "id": "ec41cf02",
   "metadata": {},
   "outputs": [
    {
     "name": "stdout",
     "output_type": "stream",
     "text": [
      "Epoch 1/10\n",
      "8/8 [==============================] - 11s 1s/step - loss: 1.3839 - accuracy: 0.2760 - val_loss: 1.3759 - val_accuracy: 0.3057\n",
      "Epoch 2/10\n",
      "8/8 [==============================] - 7s 932ms/step - loss: 1.3415 - accuracy: 0.3694 - val_loss: 1.2699 - val_accuracy: 0.5279\n",
      "Epoch 3/10\n",
      "8/8 [==============================] - 7s 938ms/step - loss: 1.1425 - accuracy: 0.5615 - val_loss: 0.9804 - val_accuracy: 0.5879\n",
      "Epoch 4/10\n",
      "8/8 [==============================] - 7s 939ms/step - loss: 0.7635 - accuracy: 0.7003 - val_loss: 0.7560 - val_accuracy: 0.7228\n",
      "Epoch 5/10\n",
      "8/8 [==============================] - 7s 930ms/step - loss: 0.4766 - accuracy: 0.8443 - val_loss: 0.6602 - val_accuracy: 0.7389\n",
      "Epoch 6/10\n",
      "8/8 [==============================] - 7s 926ms/step - loss: 0.2425 - accuracy: 0.9150 - val_loss: 0.4928 - val_accuracy: 0.8186\n",
      "Epoch 7/10\n",
      "8/8 [==============================] - 7s 922ms/step - loss: 0.0642 - accuracy: 0.9852 - val_loss: 0.5567 - val_accuracy: 0.8261\n",
      "Epoch 8/10\n",
      "8/8 [==============================] - 7s 919ms/step - loss: 0.0222 - accuracy: 0.9974 - val_loss: 0.5462 - val_accuracy: 0.8316\n",
      "Epoch 9/10\n",
      "8/8 [==============================] - 7s 917ms/step - loss: 0.0089 - accuracy: 0.9984 - val_loss: 0.5354 - val_accuracy: 0.8579\n",
      "Epoch 10/10\n",
      "8/8 [==============================] - 7s 918ms/step - loss: 0.0029 - accuracy: 0.9995 - val_loss: 0.6481 - val_accuracy: 0.8313\n"
     ]
    }
   ],
   "source": [
    "hist3 = model3.fit(X_train, \n",
    "                 y_train, \n",
    "                 validation_data=(X_val, y_val), \n",
    "                 batch_size=256, \n",
    "                 epochs = 10,)\n"
   ]
  },
  {
   "cell_type": "code",
   "execution_count": 41,
   "id": "800e7cec",
   "metadata": {},
   "outputs": [
    {
     "name": "stdout",
     "output_type": "stream",
     "text": [
      "Epoch 1/10\n",
      "8/8 [==============================] - 47s 6s/step - loss: 1.3841 - accuracy: 0.2902 - val_loss: 1.3787 - val_accuracy: 0.3231\n",
      "Epoch 2/10\n",
      "8/8 [==============================] - 44s 6s/step - loss: 1.3654 - accuracy: 0.3863 - val_loss: 1.3544 - val_accuracy: 0.3839\n",
      "Epoch 3/10\n",
      "8/8 [==============================] - 44s 6s/step - loss: 1.2925 - accuracy: 0.5425 - val_loss: 1.2553 - val_accuracy: 0.4933\n",
      "Epoch 4/10\n",
      "8/8 [==============================] - 45s 6s/step - loss: 1.0303 - accuracy: 0.6211 - val_loss: 0.9661 - val_accuracy: 0.5867\n",
      "Epoch 5/10\n",
      "8/8 [==============================] - 45s 6s/step - loss: 0.6592 - accuracy: 0.8111 - val_loss: 0.8590 - val_accuracy: 0.6720\n",
      "Epoch 6/10\n",
      "8/8 [==============================] - 45s 6s/step - loss: 0.3920 - accuracy: 0.8902 - val_loss: 0.7870 - val_accuracy: 0.7060\n",
      "Epoch 7/10\n",
      "8/8 [==============================] - 45s 6s/step - loss: 0.1785 - accuracy: 0.9594 - val_loss: 0.8870 - val_accuracy: 0.7194\n",
      "Epoch 8/10\n",
      "8/8 [==============================] - 45s 6s/step - loss: 0.0861 - accuracy: 0.9736 - val_loss: 0.8142 - val_accuracy: 0.7538\n",
      "Epoch 9/10\n",
      "8/8 [==============================] - 45s 6s/step - loss: 0.0313 - accuracy: 0.9937 - val_loss: 0.9183 - val_accuracy: 0.7558\n",
      "Epoch 10/10\n",
      "8/8 [==============================] - 44s 6s/step - loss: 0.0164 - accuracy: 0.9968 - val_loss: 0.9605 - val_accuracy: 0.7547\n"
     ]
    }
   ],
   "source": [
    "hist4 = model4.fit(X_train, \n",
    "                 y_train, \n",
    "                 validation_data=(X_val, y_val), \n",
    "                 batch_size=256, \n",
    "                 epochs = 10,)"
   ]
  },
  {
   "cell_type": "code",
   "execution_count": 42,
   "id": "09188bd7",
   "metadata": {
    "scrolled": true
   },
   "outputs": [
    {
     "data": {
      "image/png": "[encoded data removed]",
      "text/plain": [
       "<Figure size 432x288 with 2 Axes>"
      ]
     },
     "metadata": {
      "needs_background": "light"
     },
     "output_type": "display_data"
    }
   ],
   "source": [
    "fig, loss_ax = plt.subplots()\n",
    "acc_ax = loss_ax.twinx()\n",
    "\n",
    "loss_ax.plot(hist1.history['loss'], 'y', label = 'train loss')\n",
    "loss_ax.plot(hist1.history['val_loss'], 'r', label = 'val loss')\n",
    "acc_ax.plot(hist1.history['accuracy'], 'b', label = 'train accuracy')\n",
    "acc_ax.plot(hist1.history['val_accuracy'], 'g', label = 'valid accuracy')\n",
    "\n",
    "loss_ax.set_xlabel('epoch')\n",
    "loss_ax.set_ylabel('loss')\n",
    "acc_ax.set_ylabel('accuracy')\n",
    "\n",
    "loss_ax.legend(loc='upper left')\n",
    "acc_ax.legend(loc='lower left')\n",
    "\n",
    "plt.show()"
   ]
  },
  {
   "cell_type": "code",
   "execution_count": 43,
   "id": "fee8be80",
   "metadata": {},
   "outputs": [
    {
     "data": {
      "image/png": "[encoded data removed]",
      "text/plain": [
       "<Figure size 432x288 with 2 Axes>"
      ]
     },
     "metadata": {
      "needs_background": "light"
     },
     "output_type": "display_data"
    }
   ],
   "source": [
    "fig, loss_ax = plt.subplots()\n",
    "acc_ax = loss_ax.twinx()\n",
    "\n",
    "loss_ax.plot(hist2.history['loss'], 'y', label = 'train loss')\n",
    "loss_ax.plot(hist2.history['val_loss'], 'r', label = 'val loss')\n",
    "acc_ax.plot(hist2.history['accuracy'], 'b', label = 'train accuracy')\n",
    "acc_ax.plot(hist2.history['val_accuracy'], 'g', label = 'valid accuracy')\n",
    "\n",
    "loss_ax.set_xlabel('epoch')\n",
    "loss_ax.set_ylabel('loss')\n",
    "acc_ax.set_ylabel('accuracy')\n",
    "\n",
    "loss_ax.legend(loc='upper left')\n",
    "acc_ax.legend(loc='lower left')\n",
    "\n",
    "plt.show()"
   ]
  },
  {
   "cell_type": "code",
   "execution_count": 44,
   "id": "1d31acea",
   "metadata": {},
   "outputs": [
    {
     "data": {
      "image/png": "[encoded data removed]",
      "text/plain": [
       "<Figure size 432x288 with 2 Axes>"
      ]
     },
     "metadata": {
      "needs_background": "light"
     },
     "output_type": "display_data"
    }
   ],
   "source": [
    "fig, loss_ax = plt.subplots()\n",
    "acc_ax = loss_ax.twinx()\n",
    "\n",
    "loss_ax.plot(hist3.history['loss'], 'y', label = 'train loss')\n",
    "loss_ax.plot(hist3.history['val_loss'], 'r', label = 'val loss')\n",
    "acc_ax.plot(hist3.history['accuracy'], 'b', label = 'train accuracy')\n",
    "acc_ax.plot(hist3.history['val_accuracy'], 'g', label = 'valid accuracy')\n",
    "\n",
    "loss_ax.set_xlabel('epoch')\n",
    "loss_ax.set_ylabel('loss')\n",
    "acc_ax.set_ylabel('accuracy')\n",
    "\n",
    "loss_ax.legend(loc='upper left')\n",
    "acc_ax.legend(loc='lower left')\n",
    "\n",
    "plt.show()"
   ]
  },
  {
   "cell_type": "code",
   "execution_count": 45,
   "id": "ddb504b3",
   "metadata": {},
   "outputs": [
    {
     "data": {
      "image/png": "[encoded data removed]",
      "text/plain": [
       "<Figure size 432x288 with 2 Axes>"
      ]
     },
     "metadata": {
      "needs_background": "light"
     },
     "output_type": "display_data"
    }
   ],
   "source": [
    "fig, loss_ax = plt.subplots()\n",
    "acc_ax = loss_ax.twinx()\n",
    "\n",
    "loss_ax.plot(hist4.history['loss'], 'y', label = 'train loss')\n",
    "loss_ax.plot(hist4.history['val_loss'], 'r', label = 'val loss')\n",
    "acc_ax.plot(hist4.history['accuracy'], 'b', label = 'train accuracy')\n",
    "acc_ax.plot(hist4.history['val_accuracy'], 'g', label = 'valid accuracy')\n",
    "\n",
    "loss_ax.set_xlabel('epoch')\n",
    "loss_ax.set_ylabel('loss')\n",
    "acc_ax.set_ylabel('accuracy')\n",
    "\n",
    "loss_ax.legend(loc='upper left')\n",
    "acc_ax.legend(loc='lower left')\n",
    "\n",
    "plt.show()"
   ]
  },
  {
   "cell_type": "markdown",
   "id": "15e83125",
   "metadata": {},
   "source": [
    "# Test"
   ]
  },
  {
   "cell_type": "code",
   "execution_count": 46,
   "id": "1733a97d",
   "metadata": {},
   "outputs": [
    {
     "data": {
      "text/html": [
       "<div>\n",
       "<style scoped>\n",
       "    .dataframe tbody tr th:only-of-type {\n",
       "        vertical-align: middle;\n",
       "    }\n",
       "\n",
       "    .dataframe tbody tr th {\n",
       "        vertical-align: top;\n",
       "    }\n",
       "\n",
       "    .dataframe thead th {\n",
       "        text-align: right;\n",
       "    }\n",
       "</style>\n",
       "<table border=\"1\" class=\"dataframe\">\n",
       "  <thead>\n",
       "    <tr style=\"text-align: right;\">\n",
       "      <th></th>\n",
       "      <th>text</th>\n",
       "    </tr>\n",
       "  </thead>\n",
       "  <tbody>\n",
       "    <tr>\n",
       "      <th>t_000</th>\n",
       "      <td>아가씨 담배한갑주소 네 4500원입니다 어 네 지갑어디갔지 에이 버스에서 잃어버렸나...</td>\n",
       "    </tr>\n",
       "    <tr>\n",
       "      <th>t_001</th>\n",
       "      <td>우리팀에서 다른팀으로 갈 사람 없나? 그럼 영지씨가 가는건 어때?  네? 제가요? ...</td>\n",
       "    </tr>\n",
       "    <tr>\n",
       "      <th>t_002</th>\n",
       "      <td>너 오늘 그게 뭐야 네 제가 뭘 잘못했나요.? 제대로 좀 하지 네 똑바로 좀 하지 ...</td>\n",
       "    </tr>\n",
       "    <tr>\n",
       "      <th>t_004</th>\n",
       "      <td>아무튼 앞으로 니가 내 와이파이야. .응 와이파이 온. 켰어. 반말? 주인님이라고도...</td>\n",
       "    </tr>\n",
       "    <tr>\n",
       "      <th>t_005</th>\n",
       "      <td>그러니까 빨리 말해. 선생님 제발 살려주십시오.  비밀번호 틀릴 때마다 손톱 하나씩...</td>\n",
       "    </tr>\n",
       "  </tbody>\n",
       "</table>\n",
       "</div>"
      ],
      "text/plain": [
       "                                                    text\n",
       "t_000  아가씨 담배한갑주소 네 4500원입니다 어 네 지갑어디갔지 에이 버스에서 잃어버렸나...\n",
       "t_001  우리팀에서 다른팀으로 갈 사람 없나? 그럼 영지씨가 가는건 어때?  네? 제가요? ...\n",
       "t_002  너 오늘 그게 뭐야 네 제가 뭘 잘못했나요.? 제대로 좀 하지 네 똑바로 좀 하지 ...\n",
       "t_004  아무튼 앞으로 니가 내 와이파이야. .응 와이파이 온. 켰어. 반말? 주인님이라고도...\n",
       "t_005  그러니까 빨리 말해. 선생님 제발 살려주십시오.  비밀번호 틀릴 때마다 손톱 하나씩..."
      ]
     },
     "execution_count": 46,
     "metadata": {},
     "output_type": "execute_result"
    }
   ],
   "source": [
    "test_data = pd.read_json(\"~/aiffel/dktc/data/test.json\")\n",
    "test_data = test_data.transpose()\n",
    "test_data.head()"
   ]
  },
  {
   "cell_type": "code",
   "execution_count": 47,
   "id": "59b1fc2e",
   "metadata": {},
   "outputs": [],
   "source": [
    "test_corpus = [preprocess_sentence(s) for s in test_data[\"text\"]]\n",
    "tokenized_test_corpus = []\n",
    "for idx in range(len(test_corpus)):\n",
    "    tokenized_test_corpus.append(spm_tokenizer.EncodeAsIds(test_corpus[idx]))\n",
    "    \n",
    "X_test = tf.keras.preprocessing.sequence.pad_sequences(tokenized_test_corpus, padding='pre', maxlen=max_len)"
   ]
  },
  {
   "cell_type": "code",
   "execution_count": 48,
   "id": "8e1a6830",
   "metadata": {},
   "outputs": [],
   "source": [
    "predicted1 = model1.predict(X_test)\n",
    "predicted2 = model2.predict(X_test)\n",
    "predicted3 = model3.predict(X_test)\n",
    "predicted4 = model4.predict(X_test)"
   ]
  },
  {
   "cell_type": "code",
   "execution_count": 49,
   "id": "d59ed3aa",
   "metadata": {},
   "outputs": [],
   "source": [
    "import numpy as np\n",
    "\n",
    "predicted1 = np.argmax(predicted1, axis=-1)\n",
    "predicted2 = np.argmax(predicted2, axis=-1)\n",
    "predicted3 = np.argmax(predicted3, axis=-1)\n",
    "predicted4 = np.argmax(predicted4, axis=-1)"
   ]
  },
  {
   "cell_type": "markdown",
   "id": "c8d775ab",
   "metadata": {},
   "source": [
    "## Submission"
   ]
  },
  {
   "cell_type": "code",
   "execution_count": 50,
   "id": "04309ddf",
   "metadata": {},
   "outputs": [],
   "source": [
    "submission1 = pd.read_csv(\"~/aiffel/dktc/data/submission.csv\")\n",
    "submission2 = pd.read_csv(\"~/aiffel/dktc/data/submission.csv\")\n",
    "submission3 = pd.read_csv(\"~/aiffel/dktc/data/submission.csv\")\n",
    "submission4 = pd.read_csv(\"~/aiffel/dktc/data/submission.csv\")"
   ]
  },
  {
   "cell_type": "code",
   "execution_count": 51,
   "id": "aacc8ec8",
   "metadata": {},
   "outputs": [],
   "source": [
    "submission1['class'] = predicted1\n",
    "submission2['class'] = predicted2\n",
    "submission3['class'] = predicted3\n",
    "submission4['class'] = predicted4"
   ]
  },
  {
   "cell_type": "code",
   "execution_count": 52,
   "id": "49364cdb",
   "metadata": {},
   "outputs": [
    {
     "data": {
      "text/html": [
       "<div>\n",
       "<style scoped>\n",
       "    .dataframe tbody tr th:only-of-type {\n",
       "        vertical-align: middle;\n",
       "    }\n",
       "\n",
       "    .dataframe tbody tr th {\n",
       "        vertical-align: top;\n",
       "    }\n",
       "\n",
       "    .dataframe thead th {\n",
       "        text-align: right;\n",
       "    }\n",
       "</style>\n",
       "<table border=\"1\" class=\"dataframe\">\n",
       "  <thead>\n",
       "    <tr style=\"text-align: right;\">\n",
       "      <th></th>\n",
       "      <th>file_name</th>\n",
       "      <th>class</th>\n",
       "    </tr>\n",
       "  </thead>\n",
       "  <tbody>\n",
       "    <tr>\n",
       "      <th>0</th>\n",
       "      <td>t_000</td>\n",
       "      <td>1</td>\n",
       "    </tr>\n",
       "    <tr>\n",
       "      <th>1</th>\n",
       "      <td>t_001</td>\n",
       "      <td>2</td>\n",
       "    </tr>\n",
       "    <tr>\n",
       "      <th>2</th>\n",
       "      <td>t_002</td>\n",
       "      <td>3</td>\n",
       "    </tr>\n",
       "    <tr>\n",
       "      <th>3</th>\n",
       "      <td>t_004</td>\n",
       "      <td>3</td>\n",
       "    </tr>\n",
       "    <tr>\n",
       "      <th>4</th>\n",
       "      <td>t_005</td>\n",
       "      <td>0</td>\n",
       "    </tr>\n",
       "  </tbody>\n",
       "</table>\n",
       "</div>"
      ],
      "text/plain": [
       "  file_name  class\n",
       "0     t_000      1\n",
       "1     t_001      2\n",
       "2     t_002      3\n",
       "3     t_004      3\n",
       "4     t_005      0"
      ]
     },
     "execution_count": 52,
     "metadata": {},
     "output_type": "execute_result"
    }
   ],
   "source": [
    "submission1.head()\n",
    "submission2.head()\n",
    "submission3.head()\n",
    "submission4.head()"
   ]
  },
  {
   "cell_type": "code",
   "execution_count": 53,
   "id": "f4bcafaa",
   "metadata": {},
   "outputs": [],
   "source": [
    "submission1.to_csv(\"SimpleRNN_aug.csv\", index=False) ## ACCURACY: 0.245\n",
    "submission2.to_csv(\"LSTM_aug.csv\", index=False) ## ACCURACY: 0.54\n",
    "submission3.to_csv(\"Bidirectional_LSTM_aug.csv\", index=False) ## ACCURACY: 0.525\n",
    "submission4.to_csv(\"GRU_aug.csv\", index=False) ## ACCURACY: 0.42\n"
   ]
  },
  {
   "cell_type": "code",
   "execution_count": 54,
   "id": "273055bb",
   "metadata": {},
   "outputs": [
    {
     "data": {
      "text/plain": [
       "400"
      ]
     },
     "execution_count": 54,
     "metadata": {},
     "output_type": "execute_result"
    }
   ],
   "source": [
    "len(submission1)"
   ]
  },
  {
   "cell_type": "code",
   "execution_count": null,
   "id": "0dcf6822",
   "metadata": {},
   "outputs": [],
   "source": []
  }
 ],
 "metadata": {
  "kernelspec": {
   "display_name": "Python 3 (ipykernel)",
   "language": "python",
   "name": "python3"
  },
  "language_info": {
   "codemirror_mode": {
    "name": "ipython",
    "version": 3
   },
   "file_extension": ".py",
   "mimetype": "text/x-python",
   "name": "python",
   "nbconvert_exporter": "python",
   "pygments_lexer": "ipython3",
   "version": "3.9.7"
  }
 },
 "nbformat": 4,
 "nbformat_minor": 5
}
